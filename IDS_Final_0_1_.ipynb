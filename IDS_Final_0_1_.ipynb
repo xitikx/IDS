{
  "cells": [
    {
      "cell_type": "markdown",
      "metadata": {
        "id": "view-in-github",
        "colab_type": "text"
      },
      "source": [
        "<a href=\"https://colab.research.google.com/github/xitikx/IDS/blob/main/IDS_Final_0_1_.ipynb\" target=\"_parent\"><img src=\"https://colab.research.google.com/assets/colab-badge.svg\" alt=\"Open In Colab\"/></a>"
      ]
    },
    {
      "cell_type": "markdown",
      "metadata": {
        "id": "6sqi-v-jKWAf"
      },
      "source": [
        "This cell initializes a timer to track the total execution time of the notebook. It imports the time module, records the start time, and stores it using Colab’s %store magic command for later use. This helps measure the computational efficiency of the entire pipeline, which is critical for evaluating the feasibility of real-time network intrusion detection."
      ]
    },
    {
      "cell_type": "code",
      "execution_count": null,
      "metadata": {
        "colab": {
          "base_uri": "https://localhost:8080/"
        },
        "id": "MGtktUFxgWWB",
        "outputId": "3722df52-c2f0-4206-a55e-fbb17dd84f76"
      },
      "outputs": [
        {
          "output_type": "stream",
          "name": "stdout",
          "text": [
            "Stored 'start_time' (float)\n"
          ]
        }
      ],
      "source": [
        "import time\n",
        "start_time = time.time()\n",
        "%store start_time"
      ]
    },
    {
      "cell_type": "markdown",
      "metadata": {
        "id": "GGPOTFhIKfzX"
      },
      "source": [
        "This cell installs the necessary Python libraries for the project, including pandas for data handling, numpy for numerical operations, scikit-learn for machine learning, imbalanced-learn for handling class imbalance, lightgbm for gradient boosting, optuna for hyperparameter tuning, shap for model explainability, diffprivlib for differential privacy, and matplotlib/seaborn for visualizations. These dependencies enable data processing, model training, and analysis for the CICIDS2017 dataset."
      ]
    },
    {
      "cell_type": "code",
      "execution_count": null,
      "metadata": {
        "id": "f8UPwzH21BbT"
      },
      "outputs": [],
      "source": [
        "!pip install pandas numpy scikit-learn imbalanced-learn lightgbm optuna shap diffprivlib matplotlib seaborn -q"
      ]
    },
    {
      "cell_type": "markdown",
      "metadata": {
        "id": "ywdl7FGAKhG_"
      },
      "source": [
        "This cell imports essential libraries: pandas for DataFrame operations, numpy for numerical computations, and os for file system interactions. These libraries form the foundation for loading and processing the CICIDS2017 dataset, enabling efficient data manipulation and preparation for machine learning tasks."
      ]
    },
    {
      "cell_type": "code",
      "execution_count": null,
      "metadata": {
        "id": "AWx4TDqQ1Kpk"
      },
      "outputs": [],
      "source": [
        "import pandas as pd\n",
        "import numpy as np\n",
        "import os"
      ]
    },
    {
      "cell_type": "code",
      "execution_count": null,
      "metadata": {
        "id": "6LEWHORQGPrN"
      },
      "outputs": [],
      "source": [
        "# from google.colab import drive\n",
        "# drive.mount('/content/drive')\n",
        "\n",
        "#import sys\n",
        "#sys.path.append('/content/drive/MyDrive/NIDSXAI')"
      ]
    },
    {
      "cell_type": "markdown",
      "metadata": {
        "id": "qg1PUEwsKjQG"
      },
      "source": [
        "This cell loads the CICIDS2017 dataset from eight CSV files, each representing network traffic data from different days and attack scenarios. It reads each file into a DataFrame, strips whitespace from column names, and concatenates them into a single DataFrame (full_df). The combined shape is printed to confirm successful loading, setting the stage for preprocessing and analysis."
      ]
    },
    {
      "cell_type": "code",
      "execution_count": null,
      "metadata": {
        "colab": {
          "base_uri": "https://localhost:8080/"
        },
        "id": "trAPnwpm1a5e",
        "outputId": "9c80978d-d97c-47c7-8f6e-f63d5a030019"
      },
      "outputs": [
        {
          "output_type": "stream",
          "name": "stdout",
          "text": [
            "Combined shape: (2830743, 79)\n"
          ]
        }
      ],
      "source": [
        "files = [\n",
        "    \"Wednesday-workingHours.pcap_ISCX.csv\",\n",
        "    \"Tuesday-WorkingHours.pcap_ISCX.csv\",\n",
        "    \"Thursday-WorkingHours-Afternoon-Infilteration.pcap_ISCX.csv\",\n",
        "    \"Thursday-WorkingHours-Morning-WebAttacks.pcap_ISCX.csv\",\n",
        "    \"Monday-WorkingHours.pcap_ISCX.csv\",\n",
        "    \"Friday-WorkingHours-Afternoon-PortScan.pcap_ISCX.csv\",\n",
        "    \"Friday-WorkingHours-Morning.pcap_ISCX.csv\",\n",
        "    \"Friday-WorkingHours-Afternoon-DDos.pcap_ISCX.csv\"\n",
        "]\n",
        "\n",
        "dataframes = []\n",
        "for file in files:\n",
        "    df = pd.read_csv(f'/content/{file}', low_memory=False)\n",
        "    path = f'/content/{file}'\n",
        "    # df = pd.read_csv(f'/content/drive/MyDrive/NIDSXAI/CICIDS2017_CSV/MachineLearningCVE/{file}', low_memory=False)\n",
        "    df.columns = df.columns.str.strip()\n",
        "    dataframes.append(df)\n",
        "\n",
        "full_df = pd.concat(dataframes, ignore_index=True)\n",
        "print(\"Combined shape:\", full_df.shape)"
      ]
    },
    {
      "cell_type": "markdown",
      "metadata": {
        "id": "mC0hfyGAKo4z"
      },
      "source": [
        "This cell preprocesses the combined dataset by analyzing label distribution and missing values, sampling 2.5% of the data to reduce computational load, handling infinite and missing values, and mapping attack types to numeric labels (0–14 for 15 classes). It extracts numeric features (X) and labels (y), preparing the data for feature selection and model training."
      ]
    },
    {
      "cell_type": "code",
      "execution_count": null,
      "metadata": {
        "colab": {
          "base_uri": "https://localhost:8080/"
        },
        "id": "K85jSNyh1cBL",
        "outputId": "2b895a71-ed77-4ac0-be3c-8fd5f1388123"
      },
      "outputs": [
        {
          "output_type": "stream",
          "name": "stdout",
          "text": [
            "\n",
            "Label distribution (full dataset):\n",
            "Label\n",
            "BENIGN                        2273097\n",
            "DoS Hulk                       231073\n",
            "PortScan                       158930\n",
            "DDoS                           128027\n",
            "DoS GoldenEye                   10293\n",
            "FTP-Patator                      7938\n",
            "SSH-Patator                      5897\n",
            "DoS slowloris                    5796\n",
            "DoS Slowhttptest                 5499\n",
            "Bot                              1966\n",
            "Web Attack � Brute Force         1507\n",
            "Web Attack � XSS                  652\n",
            "Infiltration                       36\n",
            "Web Attack � Sql Injection         21\n",
            "Heartbleed                         11\n",
            "Name: count, dtype: int64\n",
            "\n",
            "Missing values (top 10 columns):\n",
            "Flow Bytes/s                   1358\n",
            "Flow Duration                     0\n",
            "Destination Port                  0\n",
            "Total Backward Packets            0\n",
            "Total Length of Fwd Packets       0\n",
            "Total Length of Bwd Packets       0\n",
            "Total Fwd Packets                 0\n",
            "Fwd Packet Length Max             0\n",
            "Fwd Packet Length Min             0\n",
            "Fwd Packet Length Std             0\n",
            "dtype: int64\n",
            "\n",
            "After sampling 0.1% of the data:\n",
            "Shape: (2830, 79)\n",
            "Label distribution:\n",
            " Label\n",
            "BENIGN                      2272\n",
            "DoS Hulk                     231\n",
            "PortScan                     159\n",
            "DDoS                         128\n",
            "DoS GoldenEye                 10\n",
            "FTP-Patator                    8\n",
            "DoS slowloris                  6\n",
            "SSH-Patator                    6\n",
            "DoS Slowhttptest               5\n",
            "Bot                            2\n",
            "Web Attack � Brute Force       2\n",
            "Web Attack � XSS               1\n",
            "Name: count, dtype: int64\n",
            "Shape of X: (2825, 78)\n",
            "Unique labels: [ 1  0 10  2  9 11 12  3 13  8]\n"
          ]
        }
      ],
      "source": [
        "print(\"\\nLabel distribution (full dataset):\")\n",
        "print(full_df['Label'].value_counts())\n",
        "\n",
        "print(\"\\nMissing values (top 10 columns):\")\n",
        "print(full_df.isnull().sum().sort_values(ascending=False).head(10))\n",
        "from sklearn.model_selection import train_test_split\n",
        "full_df, _ = train_test_split(\n",
        "    full_df,\n",
        "    train_size=0.001,\n",
        "    stratify=full_df['Label'],\n",
        "    random_state=42\n",
        ")\n",
        "print(\"\\nAfter sampling 0.1% of the data:\")\n",
        "print(\"Shape:\", full_df.shape)\n",
        "print(\"Label distribution:\\n\", full_df['Label'].value_counts())\n",
        "full_df.replace([np.inf, -np.inf], np.nan, inplace=True)\n",
        "full_df.dropna(inplace=True)\n",
        "attack_types = {\n",
        "    'BENIGN': 0,\n",
        "    'DDoS': 1,\n",
        "    'PortScan': 2,\n",
        "    'Bot': 3,\n",
        "    'Infiltration': 4,\n",
        "    'Web Attack – Brute Force': 5,\n",
        "    'Web Attack – XSS': 6,\n",
        "    'Web Attack – Sql Injection': 7,\n",
        "    'FTP-Patator': 8,\n",
        "    'SSH-Patator': 9,\n",
        "    'DoS Hulk': 10,\n",
        "    'DoS GoldenEye': 11,\n",
        "    'DoS slowloris': 12,\n",
        "    'DoS Slowhttptest': 13,\n",
        "    'Heartbleed': 14\n",
        "}\n",
        "full_df['Label'] = full_df['Label'].map(attack_types).fillna(-1)\n",
        "full_df = full_df[full_df['Label'] != -1]\n",
        "full_df['Label'] = full_df['Label'].astype(int)\n",
        "non_numeric = full_df.select_dtypes(exclude=[np.number]).columns\n",
        "X = full_df.drop(columns=non_numeric.union(['Label']), errors='ignore')\n",
        "y = full_df['Label']\n",
        "print(\"Shape of X:\", X.shape)\n",
        "print(\"Unique labels:\", y.unique())"
      ]
    },
    {
      "cell_type": "markdown",
      "metadata": {
        "id": "miAOmX09KsIr"
      },
      "source": [
        "This cell performs dynamic feature selection using a RandomForestClassifier with SHAP importance scores, testing feature counts (5, 10, 15, 20) via 3-fold cross-validation to select the optimal set based on macro F1 score. It also analyzes feature correlations to remove highly correlated features and evaluates feature stability across 5 folds, ensuring a robust and independent feature set for intrusion detection. Results, including a correlation heatmap and stability analysis, are saved for interpretability."
      ]
    },
    {
      "cell_type": "code",
      "execution_count": null,
      "metadata": {
        "colab": {
          "base_uri": "https://localhost:8080/"
        },
        "id": "UXewE9C_1dZM",
        "outputId": "1bebc25c-1f75-4cee-cb4f-857314c37fd9"
      },
      "outputs": [
        {
          "output_type": "stream",
          "name": "stdout",
          "text": [
            "Saved correlation heatmap to /content/plots/feature_correlation_heatmap.png\n",
            "Removed 39 highly correlated features: ['Total Backward Packets', 'Total Length of Bwd Packets', 'Fwd Packet Length Mean', 'Fwd Packet Length Std', 'Bwd Packet Length Mean', 'Bwd Packet Length Std', 'Flow IAT Max', 'Fwd IAT Total', 'Fwd IAT Mean', 'Fwd IAT Std', 'Fwd IAT Max', 'Fwd IAT Min', 'Bwd IAT Total', 'Bwd IAT Mean', 'Bwd IAT Max', 'Bwd IAT Min', 'Bwd Header Length', 'Fwd Packets/s', 'Max Packet Length', 'Packet Length Mean', 'Packet Length Std', 'Packet Length Variance', 'SYN Flag Count', 'CWE Flag Count', 'Average Packet Size', 'Avg Fwd Segment Size', 'Avg Bwd Segment Size', 'Fwd Header Length.1', 'Subflow Fwd Packets', 'Subflow Fwd Bytes', 'Subflow Bwd Packets', 'Subflow Bwd Bytes', 'act_data_pkt_fwd', 'min_seg_size_forward', 'Active Max', 'Active Min', 'Idle Mean', 'Idle Max', 'Idle Min']\n"
          ]
        },
        {
          "output_type": "stream",
          "name": "stderr",
          "text": [
            "/usr/local/lib/python3.11/dist-packages/sklearn/model_selection/_split.py:805: UserWarning: The least populated class in y has only 2 members, which is less than n_splits=3.\n",
            "  warnings.warn(\n"
          ]
        },
        {
          "output_type": "stream",
          "name": "stdout",
          "text": [
            "Feature count 5: Macro F1 = 0.7021\n"
          ]
        },
        {
          "output_type": "stream",
          "name": "stderr",
          "text": [
            "/usr/local/lib/python3.11/dist-packages/sklearn/model_selection/_split.py:805: UserWarning: The least populated class in y has only 2 members, which is less than n_splits=3.\n",
            "  warnings.warn(\n"
          ]
        },
        {
          "output_type": "stream",
          "name": "stdout",
          "text": [
            "Feature count 10: Macro F1 = 0.7797\n"
          ]
        },
        {
          "output_type": "stream",
          "name": "stderr",
          "text": [
            "/usr/local/lib/python3.11/dist-packages/sklearn/model_selection/_split.py:805: UserWarning: The least populated class in y has only 2 members, which is less than n_splits=3.\n",
            "  warnings.warn(\n"
          ]
        },
        {
          "output_type": "stream",
          "name": "stdout",
          "text": [
            "Feature count 15: Macro F1 = 0.7797\n"
          ]
        },
        {
          "output_type": "stream",
          "name": "stderr",
          "text": [
            "/usr/local/lib/python3.11/dist-packages/sklearn/model_selection/_split.py:805: UserWarning: The least populated class in y has only 2 members, which is less than n_splits=3.\n",
            "  warnings.warn(\n"
          ]
        },
        {
          "output_type": "stream",
          "name": "stdout",
          "text": [
            "Feature count 20: Macro F1 = 0.7797\n",
            "\n",
            "Selected 10 features: ['Destination Port', 'Bwd Packet Length Max', 'Total Fwd Packets', 'Flow Duration', 'Bwd Packet Length Min', 'Fwd Packet Length Max', 'Flow Bytes/s', 'Flow Packets/s', 'Fwd Packet Length Min', 'Total Length of Fwd Packets']\n",
            "X shape after feature selection: (2825, 10)\n"
          ]
        },
        {
          "output_type": "stream",
          "name": "stderr",
          "text": [
            "/usr/local/lib/python3.11/dist-packages/sklearn/model_selection/_split.py:805: UserWarning: The least populated class in y has only 2 members, which is less than n_splits=5.\n",
            "  warnings.warn(\n"
          ]
        },
        {
          "output_type": "stream",
          "name": "stdout",
          "text": [
            "Feature stability score (intersection ratio): 1.0000\n",
            "Common features across folds: {'Fwd Packet Length Min', 'Total Length of Fwd Packets', 'Flow Bytes/s', 'Destination Port', 'Fwd Packet Length Max', 'Total Fwd Packets', 'Bwd Packet Length Min', 'Flow Packets/s', 'Bwd Packet Length Max', 'Flow Duration'}\n"
          ]
        }
      ],
      "source": [
        "from sklearn.ensemble import RandomForestClassifier\n",
        "from sklearn.model_selection import StratifiedKFold\n",
        "from sklearn.metrics import f1_score\n",
        "import shap\n",
        "import numpy as np\n",
        "import pandas as pd\n",
        "import seaborn as sns\n",
        "import matplotlib.pyplot as plt\n",
        "import os\n",
        "corr_matrix = X.corr()\n",
        "plt.figure(figsize=(12, 10))\n",
        "sns.heatmap(corr_matrix, cmap='coolwarm', center=0, vmin=-1, vmax=1)\n",
        "plt.title('Feature Correlation Heatmap')\n",
        "plt.tight_layout()\n",
        "os.makedirs('/content/plots', exist_ok=True)\n",
        "plt.savefig('/content/plots/feature_correlation_heatmap.png', dpi=300)\n",
        "plt.close()\n",
        "print(\"Saved correlation heatmap to /content/plots/feature_correlation_heatmap.png\")\n",
        "threshold = 0.8\n",
        "upper = corr_matrix.where(np.triu(np.ones(corr_matrix.shape), k=1).astype(bool))\n",
        "to_drop = [column for column in upper.columns if any(upper[column].abs() > threshold)]\n",
        "X = X.drop(columns=to_drop)\n",
        "print(f\"Removed {len(to_drop)} highly correlated features: {to_drop}\")\n",
        "model_rf = RandomForestClassifier(n_estimators=100, random_state=42, n_jobs=-1)\n",
        "model_rf.fit(X, y)\n",
        "sample_idx = np.random.choice(len(X), size=1000, replace=False)\n",
        "explainer = shap.TreeExplainer(model_rf)\n",
        "shap_vals_sample = explainer.shap_values(X.iloc[sample_idx])\n",
        "shap_mean_abs = np.mean([np.abs(shap_vals).mean(axis=0) for shap_vals in shap_vals_sample], axis=0)\n",
        "top_indices = np.argsort(shap_mean_abs)[::-1]\n",
        "all_features = X.columns[top_indices]\n",
        "feature_counts = [5, 10, 15, 20]\n",
        "f1_scores = []\n",
        "skf = StratifiedKFold(n_splits=3, shuffle=True, random_state=42)\n",
        "for n_features in feature_counts:\n",
        "    selected_features = all_features[:n_features]\n",
        "    X_subset = X[selected_features]\n",
        "    fold_f1 = []\n",
        "    for train_idx, val_idx in skf.split(X_subset, y):\n",
        "        X_tr, X_val = X_subset.iloc[train_idx], X_subset.iloc[val_idx]\n",
        "        y_tr, y_val = y.iloc[train_idx], y.iloc[val_idx]\n",
        "        rf = RandomForestClassifier(n_estimators=50, random_state=42, n_jobs=-1)\n",
        "        rf.fit(X_tr, y_tr)\n",
        "        y_pred = rf.predict(X_val)\n",
        "        f1 = f1_score(y_val, y_pred, average='macro')\n",
        "        fold_f1.append(f1)\n",
        "    mean_f1 = np.mean(fold_f1)\n",
        "    f1_scores.append(mean_f1)\n",
        "    print(f\"Feature count {n_features}: Macro F1 = {mean_f1:.4f}\")\n",
        "best_n_features = feature_counts[np.argmax(f1_scores)]\n",
        "top_features = all_features[:best_n_features]\n",
        "X = X[top_features]\n",
        "print(f\"\\nSelected {best_n_features} features:\", top_features.tolist())\n",
        "print(\"X shape after feature selection:\", X.shape)\n",
        "skf_stability = StratifiedKFold(n_splits=5, shuffle=True, random_state=42)\n",
        "feature_sets = []\n",
        "for train_idx, _ in skf_stability.split(X, y):\n",
        "    rf = RandomForestClassifier(n_estimators=50, random_state=42)\n",
        "    rf.fit(X.iloc[train_idx], y.iloc[train_idx])\n",
        "    explainer = shap.TreeExplainer(rf)\n",
        "    shap_vals = explainer.shap_values(X.iloc[train_idx])\n",
        "    shap_mean = np.mean([np.abs(sv).mean(axis=0) for sv in shap_vals], axis=0)\n",
        "    top_indices = np.argsort(shap_mean)[::-1][:best_n_features]\n",
        "    feature_sets.append(X.columns[top_indices].tolist())\n",
        "common_features = set(feature_sets[0]).intersection(*feature_sets[1:])\n",
        "stability_score = len(common_features) / best_n_features\n",
        "print(f\"Feature stability score (intersection ratio): {stability_score:.4f}\")\n",
        "print(f\"Common features across folds: {common_features}\")"
      ]
    },
    {
      "cell_type": "markdown",
      "metadata": {
        "id": "DgoUVPeEKx0o"
      },
      "source": [
        "This cell splits the dataset into training and test sets (80-20 split) with stratification to preserve class distribution. It applies MinMaxScaler to normalize features, ensuring compatibility with gradient boosting models. DataFrames are used to maintain feature names, and assertions verify the correct number of features, preparing the data for model training."
      ]
    },
    {
      "cell_type": "code",
      "execution_count": null,
      "metadata": {
        "id": "2Wv-xoPs1fGH",
        "colab": {
          "base_uri": "https://localhost:8080/"
        },
        "outputId": "32c93340-6e7a-4e37-df5f-3aab9c326849"
      },
      "outputs": [
        {
          "output_type": "stream",
          "name": "stdout",
          "text": [
            "X shape before split: (2825, 10)\n",
            "X_train_scaled shape: (2260, 10)\n",
            "X_test_scaled shape: (565, 10)\n",
            "X_train_scaled columns: ['Destination Port', 'Bwd Packet Length Max', 'Total Fwd Packets', 'Flow Duration', 'Bwd Packet Length Min', 'Fwd Packet Length Max', 'Flow Bytes/s', 'Flow Packets/s', 'Fwd Packet Length Min', 'Total Length of Fwd Packets']\n"
          ]
        }
      ],
      "source": [
        "from sklearn.model_selection import train_test_split\n",
        "from sklearn.preprocessing import MinMaxScaler\n",
        "import pandas as pd\n",
        "print(\"X shape before split:\", X.shape)\n",
        "assert X.shape[1] == len(top_features), f\"Expected {len(top_features)} features, got {X.shape[1]}\"\n",
        "X_train, X_test, y_train, y_test = train_test_split(\n",
        "    X, y, test_size=0.2, stratify=y, random_state=42\n",
        ")\n",
        "X_train = pd.DataFrame(X_train, columns=top_features)\n",
        "X_test = pd.DataFrame(X_test, columns=top_features)\n",
        "scaler = MinMaxScaler()\n",
        "X_train_scaled = scaler.fit_transform(X_train)\n",
        "X_test_scaled = scaler.transform(X_test)\n",
        "X_train_scaled = pd.DataFrame(X_train_scaled, columns=top_features)\n",
        "X_test_scaled = pd.DataFrame(X_test_scaled, columns=top_features)\n",
        "print(\"X_train_scaled shape:\", X_train_scaled.shape)\n",
        "print(\"X_test_scaled shape:\", X_test_scaled.shape)\n",
        "print(\"X_train_scaled columns:\", X_train_scaled.columns.tolist())\n",
        "assert X_train_scaled.shape[1] == len(top_features), f\"Expected {len(top_features)} features, got {X_train_scaled.shape[1]}\"\n",
        "assert X_test_scaled.shape[1] == len(top_features), f\"Expected {len(top_features)} features, got {X_test_scaled.shape[1]}\""
      ]
    },
    {
      "cell_type": "markdown",
      "metadata": {
        "id": "p_yJX6ksK0sS"
      },
      "source": [
        "This cell uses Optuna to optimize LightGBM hyperparameters for multi-class classification (15 classes). It tests parameters like num_leaves and learning_rate over 50 trials, minimizing multi-class log loss via 3-fold cross-validation. The best parameters are saved, enhancing model performance for intrusion detection."
      ]
    },
    {
      "cell_type": "code",
      "execution_count": null,
      "metadata": {
        "id": "spYsqKNE1gdm",
        "colab": {
          "base_uri": "https://localhost:8080/"
        },
        "outputId": "2d402bdd-a5ef-4a0a-eefe-acb349a49f0e"
      },
      "outputs": [
        {
          "output_type": "stream",
          "name": "stderr",
          "text": [
            "[I 2025-05-10 10:48:43,728] A new study created in memory with name: no-name-6779dc5b-c59a-47fd-8f97-e5b32c03a26a\n",
            "/usr/local/lib/python3.11/dist-packages/sklearn/model_selection/_split.py:805: UserWarning: The least populated class in y has only 2 members, which is less than n_splits=3.\n",
            "  warnings.warn(\n",
            "[I 2025-05-10 10:48:49,682] Trial 0 finished with value: 0.08301812905619839 and parameters: {'num_leaves': 37, 'learning_rate': 0.03656833182460919, 'feature_fraction': 0.9473375007931965, 'bagging_fraction': 0.97846578929719, 'bagging_freq': 3, 'min_child_samples': 68}. Best is trial 0 with value: 0.08301812905619839.\n",
            "/usr/local/lib/python3.11/dist-packages/sklearn/model_selection/_split.py:805: UserWarning: The least populated class in y has only 2 members, which is less than n_splits=3.\n",
            "  warnings.warn(\n",
            "[I 2025-05-10 10:48:51,746] Trial 1 finished with value: 0.08283845245462589 and parameters: {'num_leaves': 60, 'learning_rate': 0.17300689281388756, 'feature_fraction': 0.8875511151766176, 'bagging_fraction': 0.7273385892915338, 'bagging_freq': 1, 'min_child_samples': 89}. Best is trial 1 with value: 0.08283845245462589.\n",
            "/usr/local/lib/python3.11/dist-packages/sklearn/model_selection/_split.py:805: UserWarning: The least populated class in y has only 2 members, which is less than n_splits=3.\n",
            "  warnings.warn(\n",
            "[I 2025-05-10 10:48:52,419] Trial 2 finished with value: 0.08918141529486179 and parameters: {'num_leaves': 30, 'learning_rate': 0.18194743605796718, 'feature_fraction': 0.7858992044248443, 'bagging_fraction': 0.7969565138529162, 'bagging_freq': 3, 'min_child_samples': 33}. Best is trial 1 with value: 0.08283845245462589.\n",
            "/usr/local/lib/python3.11/dist-packages/sklearn/model_selection/_split.py:805: UserWarning: The least populated class in y has only 2 members, which is less than n_splits=3.\n",
            "  warnings.warn(\n",
            "<ipython-input-10-47664e53f7e3>:28: RuntimeWarning: divide by zero encountered in log\n",
            "  logloss = -np.mean([np.log(y_pred[i, y_val.iloc[i]]) for i in range(len(y_val))])\n",
            "[I 2025-05-10 10:48:52,800] Trial 3 finished with value: inf and parameters: {'num_leaves': 58, 'learning_rate': 0.2885997278829002, 'feature_fraction': 0.7093131103768562, 'bagging_fraction': 0.8802243573370593, 'bagging_freq': 5, 'min_child_samples': 16}. Best is trial 1 with value: 0.08283845245462589.\n",
            "/usr/local/lib/python3.11/dist-packages/sklearn/model_selection/_split.py:805: UserWarning: The least populated class in y has only 2 members, which is less than n_splits=3.\n",
            "  warnings.warn(\n",
            "[I 2025-05-10 10:48:53,420] Trial 4 finished with value: 0.08425816663322026 and parameters: {'num_leaves': 54, 'learning_rate': 0.1971153358470222, 'feature_fraction': 0.9798479554941876, 'bagging_fraction': 0.9899040580479457, 'bagging_freq': 5, 'min_child_samples': 94}. Best is trial 1 with value: 0.08283845245462589.\n",
            "/usr/local/lib/python3.11/dist-packages/sklearn/model_selection/_split.py:805: UserWarning: The least populated class in y has only 2 members, which is less than n_splits=3.\n",
            "  warnings.warn(\n",
            "[I 2025-05-10 10:48:54,047] Trial 5 finished with value: 0.08349114239144313 and parameters: {'num_leaves': 73, 'learning_rate': 0.19513158243367243, 'feature_fraction': 0.8312546143893104, 'bagging_fraction': 0.9658110108010016, 'bagging_freq': 2, 'min_child_samples': 88}. Best is trial 1 with value: 0.08283845245462589.\n",
            "/usr/local/lib/python3.11/dist-packages/sklearn/model_selection/_split.py:805: UserWarning: The least populated class in y has only 2 members, which is less than n_splits=3.\n",
            "  warnings.warn(\n",
            "[I 2025-05-10 10:48:54,743] Trial 6 finished with value: 0.0795677348891512 and parameters: {'num_leaves': 29, 'learning_rate': 0.14793028921010637, 'feature_fraction': 0.9323601733328346, 'bagging_fraction': 0.8214313718873346, 'bagging_freq': 5, 'min_child_samples': 77}. Best is trial 6 with value: 0.0795677348891512.\n",
            "/usr/local/lib/python3.11/dist-packages/sklearn/model_selection/_split.py:805: UserWarning: The least populated class in y has only 2 members, which is less than n_splits=3.\n",
            "  warnings.warn(\n",
            "[I 2025-05-10 10:48:55,180] Trial 7 finished with value: 0.31304209369919084 and parameters: {'num_leaves': 49, 'learning_rate': 0.2851359085536714, 'feature_fraction': 0.9919754578765976, 'bagging_fraction': 0.7254046551746313, 'bagging_freq': 4, 'min_child_samples': 18}. Best is trial 6 with value: 0.0795677348891512.\n",
            "/usr/local/lib/python3.11/dist-packages/sklearn/model_selection/_split.py:805: UserWarning: The least populated class in y has only 2 members, which is less than n_splits=3.\n",
            "  warnings.warn(\n",
            "[I 2025-05-10 10:48:56,135] Trial 8 finished with value: 0.08379354668803492 and parameters: {'num_leaves': 27, 'learning_rate': 0.12242985836988474, 'feature_fraction': 0.980705335167056, 'bagging_fraction': 0.7235543989906101, 'bagging_freq': 1, 'min_child_samples': 45}. Best is trial 6 with value: 0.0795677348891512.\n",
            "/usr/local/lib/python3.11/dist-packages/sklearn/model_selection/_split.py:805: UserWarning: The least populated class in y has only 2 members, which is less than n_splits=3.\n",
            "  warnings.warn(\n",
            "[I 2025-05-10 10:48:57,670] Trial 9 finished with value: 0.0860499043327654 and parameters: {'num_leaves': 41, 'learning_rate': 0.09139931164659307, 'feature_fraction': 0.8950054253395919, 'bagging_fraction': 0.9712506430828577, 'bagging_freq': 2, 'min_child_samples': 29}. Best is trial 6 with value: 0.0795677348891512.\n",
            "/usr/local/lib/python3.11/dist-packages/sklearn/model_selection/_split.py:805: UserWarning: The least populated class in y has only 2 members, which is less than n_splits=3.\n",
            "  warnings.warn(\n",
            "[I 2025-05-10 10:49:12,745] Trial 10 finished with value: 0.08113046362024051 and parameters: {'num_leaves': 94, 'learning_rate': 0.02472375110593425, 'feature_fraction': 0.9221661469717002, 'bagging_fraction': 0.8515978262715757, 'bagging_freq': 4, 'min_child_samples': 66}. Best is trial 6 with value: 0.0795677348891512.\n",
            "/usr/local/lib/python3.11/dist-packages/sklearn/model_selection/_split.py:805: UserWarning: The least populated class in y has only 2 members, which is less than n_splits=3.\n",
            "  warnings.warn(\n",
            "[I 2025-05-10 10:49:19,820] Trial 11 finished with value: 0.10128688327399425 and parameters: {'num_leaves': 96, 'learning_rate': 0.010751652879596951, 'feature_fraction': 0.9101184493484837, 'bagging_fraction': 0.8507187212988707, 'bagging_freq': 4, 'min_child_samples': 68}. Best is trial 6 with value: 0.0795677348891512.\n",
            "/usr/local/lib/python3.11/dist-packages/sklearn/model_selection/_split.py:805: UserWarning: The least populated class in y has only 2 members, which is less than n_splits=3.\n",
            "  warnings.warn(\n",
            "[I 2025-05-10 10:49:21,321] Trial 12 finished with value: 0.08293512662020601 and parameters: {'num_leaves': 77, 'learning_rate': 0.0728066887349863, 'feature_fraction': 0.8504170450782959, 'bagging_fraction': 0.7976134006601054, 'bagging_freq': 4, 'min_child_samples': 68}. Best is trial 6 with value: 0.0795677348891512.\n",
            "/usr/local/lib/python3.11/dist-packages/sklearn/model_selection/_split.py:805: UserWarning: The least populated class in y has only 2 members, which is less than n_splits=3.\n",
            "  warnings.warn(\n",
            "[I 2025-05-10 10:49:21,872] Trial 13 finished with value: 0.09628284035056589 and parameters: {'num_leaves': 96, 'learning_rate': 0.2351639337340801, 'feature_fraction': 0.9299999445629756, 'bagging_fraction': 0.9097144278107747, 'bagging_freq': 5, 'min_child_samples': 58}. Best is trial 6 with value: 0.0795677348891512.\n",
            "/usr/local/lib/python3.11/dist-packages/sklearn/model_selection/_split.py:805: UserWarning: The least populated class in y has only 2 members, which is less than n_splits=3.\n",
            "  warnings.warn(\n",
            "[I 2025-05-10 10:49:22,794] Trial 14 finished with value: 0.07933970413350633 and parameters: {'num_leaves': 76, 'learning_rate': 0.12861973321057873, 'feature_fraction': 0.8567453244734775, 'bagging_fraction': 0.8001565799835302, 'bagging_freq': 4, 'min_child_samples': 79}. Best is trial 14 with value: 0.07933970413350633.\n",
            "/usr/local/lib/python3.11/dist-packages/sklearn/model_selection/_split.py:805: UserWarning: The least populated class in y has only 2 members, which is less than n_splits=3.\n",
            "  warnings.warn(\n",
            "[I 2025-05-10 10:49:23,630] Trial 15 finished with value: 0.08148211874326988 and parameters: {'num_leaves': 77, 'learning_rate': 0.12571986703684596, 'feature_fraction': 0.7997914470750372, 'bagging_fraction': 0.7927424025754435, 'bagging_freq': 5, 'min_child_samples': 79}. Best is trial 14 with value: 0.07933970413350633.\n",
            "/usr/local/lib/python3.11/dist-packages/sklearn/model_selection/_split.py:805: UserWarning: The least populated class in y has only 2 members, which is less than n_splits=3.\n",
            "  warnings.warn(\n",
            "[I 2025-05-10 10:49:24,499] Trial 16 finished with value: 0.0804938854800034 and parameters: {'num_leaves': 69, 'learning_rate': 0.13553526334636568, 'feature_fraction': 0.8500568192468835, 'bagging_fraction': 0.7666918430963876, 'bagging_freq': 4, 'min_child_samples': 78}. Best is trial 14 with value: 0.07933970413350633.\n",
            "/usr/local/lib/python3.11/dist-packages/sklearn/model_selection/_split.py:805: UserWarning: The least populated class in y has only 2 members, which is less than n_splits=3.\n",
            "  warnings.warn(\n",
            "[I 2025-05-10 10:49:25,583] Trial 17 finished with value: 0.07877647157110394 and parameters: {'num_leaves': 20, 'learning_rate': 0.08674253514562472, 'feature_fraction': 0.7262810846242898, 'bagging_fraction': 0.9001152010016539, 'bagging_freq': 5, 'min_child_samples': 100}. Best is trial 17 with value: 0.07877647157110394.\n",
            "/usr/local/lib/python3.11/dist-packages/sklearn/model_selection/_split.py:805: UserWarning: The least populated class in y has only 2 members, which is less than n_splits=3.\n",
            "  warnings.warn(\n",
            "[I 2025-05-10 10:49:26,711] Trial 18 finished with value: 0.07982023678699861 and parameters: {'num_leaves': 84, 'learning_rate': 0.08886002096587595, 'feature_fraction': 0.7095634499480823, 'bagging_fraction': 0.9197000614888049, 'bagging_freq': 3, 'min_child_samples': 99}. Best is trial 17 with value: 0.07877647157110394.\n",
            "/usr/local/lib/python3.11/dist-packages/sklearn/model_selection/_split.py:805: UserWarning: The least populated class in y has only 2 members, which is less than n_splits=3.\n",
            "  warnings.warn(\n",
            "[I 2025-05-10 10:49:28,064] Trial 19 finished with value: 0.08147071195283852 and parameters: {'num_leaves': 22, 'learning_rate': 0.0705529989938988, 'feature_fraction': 0.7509619297322693, 'bagging_fraction': 0.9109126031257514, 'bagging_freq': 3, 'min_child_samples': 100}. Best is trial 17 with value: 0.07877647157110394.\n",
            "/usr/local/lib/python3.11/dist-packages/sklearn/model_selection/_split.py:805: UserWarning: The least populated class in y has only 2 members, which is less than n_splits=3.\n",
            "  warnings.warn(\n",
            "[I 2025-05-10 10:49:32,548] Trial 20 finished with value: 0.08002439490614884 and parameters: {'num_leaves': 67, 'learning_rate': 0.05023263126650085, 'feature_fraction': 0.7562726438636215, 'bagging_fraction': 0.8813029817780706, 'bagging_freq': 4, 'min_child_samples': 86}. Best is trial 17 with value: 0.07877647157110394.\n",
            "/usr/local/lib/python3.11/dist-packages/sklearn/model_selection/_split.py:805: UserWarning: The least populated class in y has only 2 members, which is less than n_splits=3.\n",
            "  warnings.warn(\n",
            "[I 2025-05-10 10:49:33,339] Trial 21 finished with value: 0.0828073147290617 and parameters: {'num_leaves': 20, 'learning_rate': 0.14994283539843203, 'feature_fraction': 0.8759145386545795, 'bagging_fraction': 0.8292400597270081, 'bagging_freq': 5, 'min_child_samples': 78}. Best is trial 17 with value: 0.07877647157110394.\n",
            "/usr/local/lib/python3.11/dist-packages/sklearn/model_selection/_split.py:805: UserWarning: The least populated class in y has only 2 members, which is less than n_splits=3.\n",
            "  warnings.warn(\n",
            "[I 2025-05-10 10:49:34,315] Trial 22 finished with value: 0.0839025322807474 and parameters: {'num_leaves': 38, 'learning_rate': 0.11652325819409734, 'feature_fraction': 0.8095089170846336, 'bagging_fraction': 0.8226888293853307, 'bagging_freq': 5, 'min_child_samples': 56}. Best is trial 17 with value: 0.07877647157110394.\n",
            "/usr/local/lib/python3.11/dist-packages/sklearn/model_selection/_split.py:805: UserWarning: The least populated class in y has only 2 members, which is less than n_splits=3.\n",
            "  warnings.warn(\n",
            "[I 2025-05-10 10:49:34,754] Trial 23 finished with value: 0.10577902065882507 and parameters: {'num_leaves': 32, 'learning_rate': 0.2213302003346173, 'feature_fraction': 0.9432033097462545, 'bagging_fraction': 0.7722682219906981, 'bagging_freq': 5, 'min_child_samples': 82}. Best is trial 17 with value: 0.07877647157110394.\n",
            "/usr/local/lib/python3.11/dist-packages/sklearn/model_selection/_split.py:805: UserWarning: The least populated class in y has only 2 members, which is less than n_splits=3.\n",
            "  warnings.warn(\n",
            "[I 2025-05-10 10:49:35,758] Trial 24 finished with value: 0.08086372284984349 and parameters: {'num_leaves': 87, 'learning_rate': 0.0979148665015185, 'feature_fraction': 0.7369641314302872, 'bagging_fraction': 0.9381115759449505, 'bagging_freq': 4, 'min_child_samples': 93}. Best is trial 17 with value: 0.07877647157110394.\n",
            "/usr/local/lib/python3.11/dist-packages/sklearn/model_selection/_split.py:805: UserWarning: The least populated class in y has only 2 members, which is less than n_splits=3.\n",
            "  warnings.warn(\n",
            "[I 2025-05-10 10:49:36,612] Trial 25 finished with value: 0.09349433891413361 and parameters: {'num_leaves': 25, 'learning_rate': 0.1553322197078458, 'feature_fraction': 0.8679409614471866, 'bagging_fraction': 0.8743293130602812, 'bagging_freq': 5, 'min_child_samples': 46}. Best is trial 17 with value: 0.07877647157110394.\n",
            "/usr/local/lib/python3.11/dist-packages/sklearn/model_selection/_split.py:805: UserWarning: The least populated class in y has only 2 members, which is less than n_splits=3.\n",
            "  warnings.warn(\n",
            "[I 2025-05-10 10:49:37,310] Trial 26 finished with value: 0.08456811014979564 and parameters: {'num_leaves': 48, 'learning_rate': 0.16069048378947215, 'feature_fraction': 0.8198967421613019, 'bagging_fraction': 0.7534400916039115, 'bagging_freq': 4, 'min_child_samples': 74}. Best is trial 17 with value: 0.07877647157110394.\n",
            "/usr/local/lib/python3.11/dist-packages/sklearn/model_selection/_split.py:805: UserWarning: The least populated class in y has only 2 members, which is less than n_splits=3.\n",
            "  warnings.warn(\n",
            "[I 2025-05-10 10:49:38,888] Trial 27 finished with value: 0.08106246778882749 and parameters: {'num_leaves': 44, 'learning_rate': 0.06001689612407156, 'feature_fraction': 0.7795715369658947, 'bagging_fraction': 0.8196275032611262, 'bagging_freq': 5, 'min_child_samples': 61}. Best is trial 17 with value: 0.07877647157110394.\n",
            "/usr/local/lib/python3.11/dist-packages/sklearn/model_selection/_split.py:805: UserWarning: The least populated class in y has only 2 members, which is less than n_splits=3.\n",
            "  warnings.warn(\n",
            "[I 2025-05-10 10:49:40,027] Trial 28 finished with value: 0.08339271117261106 and parameters: {'num_leaves': 32, 'learning_rate': 0.09448206382028018, 'feature_fraction': 0.9576997777715947, 'bagging_fraction': 0.8636672176126028, 'bagging_freq': 4, 'min_child_samples': 73}. Best is trial 17 with value: 0.07877647157110394.\n",
            "/usr/local/lib/python3.11/dist-packages/sklearn/model_selection/_split.py:805: UserWarning: The least populated class in y has only 2 members, which is less than n_splits=3.\n",
            "  warnings.warn(\n",
            "[I 2025-05-10 10:49:40,993] Trial 29 finished with value: 0.08445990265613217 and parameters: {'num_leaves': 36, 'learning_rate': 0.11101207347774718, 'feature_fraction': 0.9577082797772827, 'bagging_fraction': 0.9434961324815414, 'bagging_freq': 5, 'min_child_samples': 94}. Best is trial 17 with value: 0.07877647157110394.\n",
            "/usr/local/lib/python3.11/dist-packages/sklearn/model_selection/_split.py:805: UserWarning: The least populated class in y has only 2 members, which is less than n_splits=3.\n",
            "  warnings.warn(\n",
            "[I 2025-05-10 10:49:42,017] Trial 30 finished with value: 0.08153167484647163 and parameters: {'num_leaves': 20, 'learning_rate': 0.1410100424325257, 'feature_fraction': 0.8305352940901312, 'bagging_fraction': 0.832125845487476, 'bagging_freq': 3, 'min_child_samples': 84}. Best is trial 17 with value: 0.07877647157110394.\n",
            "/usr/local/lib/python3.11/dist-packages/sklearn/model_selection/_split.py:805: UserWarning: The least populated class in y has only 2 members, which is less than n_splits=3.\n",
            "  warnings.warn(\n",
            "[I 2025-05-10 10:49:45,438] Trial 31 finished with value: 0.07979844603670032 and parameters: {'num_leaves': 86, 'learning_rate': 0.08766290275717957, 'feature_fraction': 0.7002087035571976, 'bagging_fraction': 0.9054793001264179, 'bagging_freq': 2, 'min_child_samples': 100}. Best is trial 17 with value: 0.07877647157110394.\n",
            "/usr/local/lib/python3.11/dist-packages/sklearn/model_selection/_split.py:805: UserWarning: The least populated class in y has only 2 members, which is less than n_splits=3.\n",
            "  warnings.warn(\n",
            "[I 2025-05-10 10:49:47,583] Trial 32 finished with value: 0.08021028675585101 and parameters: {'num_leaves': 89, 'learning_rate': 0.03969462983027582, 'feature_fraction': 0.7269558305815849, 'bagging_fraction': 0.890176794314071, 'bagging_freq': 2, 'min_child_samples': 100}. Best is trial 17 with value: 0.07877647157110394.\n",
            "/usr/local/lib/python3.11/dist-packages/sklearn/model_selection/_split.py:805: UserWarning: The least populated class in y has only 2 members, which is less than n_splits=3.\n",
            "  warnings.warn(\n",
            "[I 2025-05-10 10:49:48,201] Trial 33 finished with value: 0.08362045123550772 and parameters: {'num_leaves': 64, 'learning_rate': 0.17587356005833915, 'feature_fraction': 0.7027381998557988, 'bagging_fraction': 0.7002534059102657, 'bagging_freq': 1, 'min_child_samples': 92}. Best is trial 17 with value: 0.07877647157110394.\n",
            "/usr/local/lib/python3.11/dist-packages/sklearn/model_selection/_split.py:805: UserWarning: The least populated class in y has only 2 members, which is less than n_splits=3.\n",
            "  warnings.warn(\n",
            "[I 2025-05-10 10:49:49,695] Trial 34 finished with value: 0.08249368280645926 and parameters: {'num_leaves': 81, 'learning_rate': 0.08065306461404809, 'feature_fraction': 0.7743899309478814, 'bagging_fraction': 0.8972620219395606, 'bagging_freq': 2, 'min_child_samples': 50}. Best is trial 17 with value: 0.07877647157110394.\n",
            "/usr/local/lib/python3.11/dist-packages/sklearn/model_selection/_split.py:805: UserWarning: The least populated class in y has only 2 members, which is less than n_splits=3.\n",
            "  warnings.warn(\n",
            "[I 2025-05-10 10:49:50,502] Trial 35 finished with value: 0.08068354318282456 and parameters: {'num_leaves': 56, 'learning_rate': 0.13352157389542818, 'feature_fraction': 0.7237112000033611, 'bagging_fraction': 0.932253350595767, 'bagging_freq': 3, 'min_child_samples': 89}. Best is trial 17 with value: 0.07877647157110394.\n",
            "/usr/local/lib/python3.11/dist-packages/sklearn/model_selection/_split.py:805: UserWarning: The least populated class in y has only 2 members, which is less than n_splits=3.\n",
            "  warnings.warn(\n",
            "[I 2025-05-10 10:49:51,479] Trial 36 finished with value: 0.08108870219300655 and parameters: {'num_leaves': 92, 'learning_rate': 0.1055491606155593, 'feature_fraction': 0.8996771787431733, 'bagging_fraction': 0.8114205084178138, 'bagging_freq': 2, 'min_child_samples': 96}. Best is trial 17 with value: 0.07877647157110394.\n",
            "/usr/local/lib/python3.11/dist-packages/sklearn/model_selection/_split.py:805: UserWarning: The least populated class in y has only 2 members, which is less than n_splits=3.\n",
            "  warnings.warn(\n",
            "[I 2025-05-10 10:49:52,064] Trial 37 finished with value: 0.08760316786124962 and parameters: {'num_leaves': 62, 'learning_rate': 0.1928984956833254, 'feature_fraction': 0.8696038762604248, 'bagging_fraction': 0.8396347987815977, 'bagging_freq': 1, 'min_child_samples': 74}. Best is trial 17 with value: 0.07877647157110394.\n",
            "/usr/local/lib/python3.11/dist-packages/sklearn/model_selection/_split.py:805: UserWarning: The least populated class in y has only 2 members, which is less than n_splits=3.\n",
            "  warnings.warn(\n",
            "[I 2025-05-10 10:49:53,563] Trial 38 finished with value: 0.08070146570038787 and parameters: {'num_leaves': 80, 'learning_rate': 0.05932592811104272, 'feature_fraction': 0.7637986820277414, 'bagging_fraction': 0.8608784770896064, 'bagging_freq': 5, 'min_child_samples': 86}. Best is trial 17 with value: 0.07877647157110394.\n",
            "/usr/local/lib/python3.11/dist-packages/sklearn/model_selection/_split.py:805: UserWarning: The least populated class in y has only 2 members, which is less than n_splits=3.\n",
            "  warnings.warn(\n",
            "[I 2025-05-10 10:49:54,516] Trial 39 finished with value: 0.08275533137647896 and parameters: {'num_leaves': 72, 'learning_rate': 0.11526256321171138, 'feature_fraction': 0.7413634938271079, 'bagging_fraction': 0.9532932438792672, 'bagging_freq': 2, 'min_child_samples': 89}. Best is trial 17 with value: 0.07877647157110394.\n",
            "/usr/local/lib/python3.11/dist-packages/sklearn/model_selection/_split.py:805: UserWarning: The least populated class in y has only 2 members, which is less than n_splits=3.\n",
            "  warnings.warn(\n",
            "[I 2025-05-10 10:49:57,571] Trial 40 finished with value: 0.0838418653074778 and parameters: {'num_leaves': 99, 'learning_rate': 0.16577566252895237, 'feature_fraction': 0.7201154825725368, 'bagging_fraction': 0.9996995688691371, 'bagging_freq': 3, 'min_child_samples': 36}. Best is trial 17 with value: 0.07877647157110394.\n",
            "/usr/local/lib/python3.11/dist-packages/sklearn/model_selection/_split.py:805: UserWarning: The least populated class in y has only 2 members, which is less than n_splits=3.\n",
            "  warnings.warn(\n",
            "[I 2025-05-10 10:49:58,938] Trial 41 finished with value: 0.08016206798564639 and parameters: {'num_leaves': 84, 'learning_rate': 0.08691063530202012, 'feature_fraction': 0.7009347015577114, 'bagging_fraction': 0.9200979680190802, 'bagging_freq': 3, 'min_child_samples': 100}. Best is trial 17 with value: 0.07877647157110394.\n",
            "/usr/local/lib/python3.11/dist-packages/sklearn/model_selection/_split.py:805: UserWarning: The least populated class in y has only 2 members, which is less than n_splits=3.\n",
            "  warnings.warn(\n",
            "[I 2025-05-10 10:50:00,130] Trial 42 finished with value: 0.0802940556592348 and parameters: {'num_leaves': 25, 'learning_rate': 0.07893126949180385, 'feature_fraction': 0.716173058158952, 'bagging_fraction': 0.9032906970234679, 'bagging_freq': 4, 'min_child_samples': 96}. Best is trial 17 with value: 0.07877647157110394.\n",
            "/usr/local/lib/python3.11/dist-packages/sklearn/model_selection/_split.py:805: UserWarning: The least populated class in y has only 2 members, which is less than n_splits=3.\n",
            "  warnings.warn(\n",
            "[I 2025-05-10 10:50:01,516] Trial 43 finished with value: 0.08054151633596808 and parameters: {'num_leaves': 85, 'learning_rate': 0.14398644571751923, 'feature_fraction': 0.7385357410409973, 'bagging_fraction': 0.9248399646490832, 'bagging_freq': 2, 'min_child_samples': 91}. Best is trial 17 with value: 0.07877647157110394.\n",
            "/usr/local/lib/python3.11/dist-packages/sklearn/model_selection/_split.py:805: UserWarning: The least populated class in y has only 2 members, which is less than n_splits=3.\n",
            "  warnings.warn(\n",
            "[I 2025-05-10 10:50:03,390] Trial 44 finished with value: 0.11213947009300634 and parameters: {'num_leaves': 75, 'learning_rate': 0.10242965871217596, 'feature_fraction': 0.7914428166586198, 'bagging_fraction': 0.8027409094238427, 'bagging_freq': 3, 'min_child_samples': 11}. Best is trial 17 with value: 0.07877647157110394.\n",
            "/usr/local/lib/python3.11/dist-packages/sklearn/model_selection/_split.py:805: UserWarning: The least populated class in y has only 2 members, which is less than n_splits=3.\n",
            "  warnings.warn(\n",
            "[I 2025-05-10 10:50:06,282] Trial 45 finished with value: 0.0818056606874939 and parameters: {'num_leaves': 90, 'learning_rate': 0.03049431855565428, 'feature_fraction': 0.7083793115023344, 'bagging_fraction': 0.9564977812233515, 'bagging_freq': 4, 'min_child_samples': 96}. Best is trial 17 with value: 0.07877647157110394.\n",
            "/usr/local/lib/python3.11/dist-packages/sklearn/model_selection/_split.py:805: UserWarning: The least populated class in y has only 2 members, which is less than n_splits=3.\n",
            "  warnings.warn(\n",
            "[I 2025-05-10 10:50:07,135] Trial 46 finished with value: 0.08046413242134397 and parameters: {'num_leaves': 52, 'learning_rate': 0.12645662965427318, 'feature_fraction': 0.9949006278225788, 'bagging_fraction': 0.7827859392276632, 'bagging_freq': 3, 'min_child_samples': 80}. Best is trial 17 with value: 0.07877647157110394.\n",
            "/usr/local/lib/python3.11/dist-packages/sklearn/model_selection/_split.py:805: UserWarning: The least populated class in y has only 2 members, which is less than n_splits=3.\n",
            "  warnings.warn(\n",
            "[I 2025-05-10 10:50:10,253] Trial 47 finished with value: 0.07971182304646016 and parameters: {'num_leaves': 27, 'learning_rate': 0.0644242915056923, 'feature_fraction': 0.9157263546853236, 'bagging_fraction': 0.7479261125609316, 'bagging_freq': 5, 'min_child_samples': 61}. Best is trial 17 with value: 0.07877647157110394.\n",
            "/usr/local/lib/python3.11/dist-packages/sklearn/model_selection/_split.py:805: UserWarning: The least populated class in y has only 2 members, which is less than n_splits=3.\n",
            "  warnings.warn(\n",
            "[I 2025-05-10 10:50:12,458] Trial 48 finished with value: 0.07915488422010274 and parameters: {'num_leaves': 29, 'learning_rate': 0.0636897524062217, 'feature_fraction': 0.915142146002893, 'bagging_fraction': 0.7514093940237553, 'bagging_freq': 5, 'min_child_samples': 64}. Best is trial 17 with value: 0.07877647157110394.\n",
            "/usr/local/lib/python3.11/dist-packages/sklearn/model_selection/_split.py:805: UserWarning: The least populated class in y has only 2 members, which is less than n_splits=3.\n",
            "  warnings.warn(\n",
            "[I 2025-05-10 10:50:16,917] Trial 49 finished with value: 0.10363078754587483 and parameters: {'num_leaves': 29, 'learning_rate': 0.010395462817604083, 'feature_fraction': 0.9177607479126687, 'bagging_fraction': 0.747233711076315, 'bagging_freq': 5, 'min_child_samples': 62}. Best is trial 17 with value: 0.07877647157110394.\n"
          ]
        },
        {
          "output_type": "stream",
          "name": "stdout",
          "text": [
            "Best parameters: {'num_leaves': 20, 'learning_rate': 0.08674253514562472, 'feature_fraction': 0.7262810846242898, 'bagging_fraction': 0.9001152010016539, 'bagging_freq': 5, 'min_child_samples': 100}\n"
          ]
        }
      ],
      "source": [
        "import optuna\n",
        "import lightgbm as lgb\n",
        "from sklearn.model_selection import StratifiedKFold\n",
        "def objective(trial):\n",
        "    param = {\n",
        "        'objective': 'multiclass',\n",
        "        'num_class': 15,\n",
        "        'metric': 'multi_logloss',\n",
        "        'num_leaves': trial.suggest_int('num_leaves', 20, 100),\n",
        "        'learning_rate': trial.suggest_float('learning_rate', 0.01, 0.3),\n",
        "        'feature_fraction': trial.suggest_float('feature_fraction', 0.7, 1.0),\n",
        "        'bagging_fraction': trial.suggest_float('bagging_fraction', 0.7, 1.0),\n",
        "        'bagging_freq': trial.suggest_int('bagging_freq', 1, 5),\n",
        "        'min_child_samples': trial.suggest_int('min_child_samples', 10, 100),\n",
        "        'verbosity': -1,\n",
        "        'random_state': 42\n",
        "    }\n",
        "    skf = StratifiedKFold(n_splits=3, shuffle=True, random_state=42)\n",
        "    loglosses = []\n",
        "    for train_idx, val_idx in skf.split(X_train_scaled, y_train):\n",
        "        X_tr, X_val = X_train_scaled.iloc[train_idx], X_train_scaled.iloc[val_idx]\n",
        "        y_tr, y_val = y_train.iloc[train_idx], y_train.iloc[val_idx]\n",
        "        train_data = lgb.Dataset(X_tr, label=y_tr)\n",
        "        val_data = lgb.Dataset(X_val, label=y_val, reference=train_data)\n",
        "        model = lgb.train(param, train_data, valid_sets=[val_data], num_boost_round=200,\n",
        "                          callbacks=[lgb.early_stopping(stopping_rounds=10, verbose=False)])\n",
        "        y_pred = model.predict(X_val)\n",
        "        logloss = -np.mean([np.log(y_pred[i, y_val.iloc[i]]) for i in range(len(y_val))])\n",
        "        loglosses.append(logloss)\n",
        "    return np.mean(loglosses)\n",
        "study = optuna.create_study(direction='minimize')\n",
        "study.optimize(objective, n_trials=50, timeout=3600)\n",
        "best_params = study.best_params\n",
        "print(\"Best parameters:\", best_params)"
      ]
    },
    {
      "cell_type": "markdown",
      "metadata": {
        "id": "bsgzOqzAK23m"
      },
      "source": [
        "This cell evaluates the LightGBM model using 5-fold stratified cross-validation, applying SMOTE-Tomek to handle class imbalance in each fold. It trains the model with optimized parameters, computes accuracy and macro F1 scores, and reports mean and standard deviation, ensuring robust performance assessment for multi-class attack detection."
      ]
    },
    {
      "cell_type": "code",
      "execution_count": null,
      "metadata": {
        "id": "Xb1GoDlI1h0Y",
        "colab": {
          "base_uri": "https://localhost:8080/"
        },
        "outputId": "759c3ab4-b41b-457a-875a-27c5f392d336"
      },
      "outputs": [
        {
          "output_type": "stream",
          "name": "stdout",
          "text": [
            "X_train_scaled_np shape: (2260, 10)\n",
            "Fold 1 | Min class size: 2 | Using SMOTE(k=1)\n"
          ]
        },
        {
          "output_type": "stream",
          "name": "stderr",
          "text": [
            "/usr/local/lib/python3.11/dist-packages/sklearn/model_selection/_split.py:805: UserWarning: The least populated class in y has only 2 members, which is less than n_splits=5.\n",
            "  warnings.warn(\n"
          ]
        },
        {
          "output_type": "stream",
          "name": "stdout",
          "text": [
            "Training until validation scores don't improve for 10 rounds\n",
            "Early stopping, best iteration is:\n",
            "[47]\tvalid_0's multi_logloss: 0.0429709\n",
            " | Accuracy: 0.9823, Macro F1: 0.6960\n",
            "Fold 2 | Min class size: 1 | SMOTE skipped (insufficient samples). Using original data.\n",
            "Training until validation scores don't improve for 10 rounds\n",
            "Early stopping, best iteration is:\n",
            "[37]\tvalid_0's multi_logloss: 0.125132\n",
            " | Accuracy: 0.9735, Macro F1: 0.5837\n",
            "Fold 3 | Min class size: 1 | SMOTE skipped (insufficient samples). Using original data.\n",
            "Training until validation scores don't improve for 10 rounds\n",
            "Early stopping, best iteration is:\n",
            "[66]\tvalid_0's multi_logloss: 0.0718525\n",
            " | Accuracy: 0.9867, Macro F1: 0.7182\n",
            "Fold 4 | Min class size: 2 | Using SMOTE(k=1)\n",
            "Training until validation scores don't improve for 10 rounds\n",
            "Early stopping, best iteration is:\n",
            "[40]\tvalid_0's multi_logloss: 0.0882998\n",
            " | Accuracy: 0.9779, Macro F1: 0.7087\n",
            "Fold 5 | Min class size: 2 | Using SMOTE(k=1)\n",
            "Training until validation scores don't improve for 10 rounds\n",
            "Early stopping, best iteration is:\n",
            "[41]\tvalid_0's multi_logloss: 0.105508\n",
            " | Accuracy: 0.9779, Macro F1: 0.6735\n",
            "\n",
            "Mean Accuracy: 0.9796 (±0.0045)\n",
            "Mean Macro F1: 0.6760 (±0.0486)\n"
          ]
        }
      ],
      "source": [
        "from sklearn.model_selection import StratifiedKFold\n",
        "from sklearn.metrics import accuracy_score, f1_score\n",
        "from imblearn.combine import SMOTETomek\n",
        "from imblearn.over_sampling import SMOTE\n",
        "import lightgbm as lgb\n",
        "import numpy as np\n",
        "from collections import Counter\n",
        "\n",
        "skf = StratifiedKFold(n_splits=5, shuffle=True, random_state=42)\n",
        "accuracies = []\n",
        "f1_scores = []\n",
        "\n",
        "X_train_scaled_np = X_train_scaled.values\n",
        "print(\"X_train_scaled_np shape:\", X_train_scaled_np.shape)\n",
        "assert X_train_scaled_np.shape[1] == len(top_features), f\"Expected {len(top_features)} features, got {X_train_scaled_np.shape[1]}\"\n",
        "\n",
        "for fold, (train_idx, val_idx) in enumerate(skf.split(X_train_scaled_np, y_train)):\n",
        "    X_tr, X_val = X_train_scaled_np[train_idx], X_train_scaled_np[val_idx]\n",
        "    y_tr, y_val = y_train.iloc[train_idx], y_train.iloc[val_idx]\n",
        "\n",
        "    class_counts = Counter(y_tr)\n",
        "    min_class_count = min(class_counts.values())\n",
        "\n",
        "    print(f\"Fold {fold+1} | Min class size: {min_class_count}\", end='')\n",
        "\n",
        "    try:\n",
        "        if min_class_count > 1:\n",
        "            smote_k = min(5, min_class_count - 1)\n",
        "            print(f\" | Using SMOTE(k={smote_k})\")\n",
        "            smt = SMOTETomek(smote=SMOTE(k_neighbors=smote_k), random_state=42)\n",
        "            X_tr_res, y_tr_res = smt.fit_resample(X_tr, y_tr)\n",
        "        else:\n",
        "            print(\" | SMOTE skipped (insufficient samples). Using original data.\")\n",
        "            X_tr_res, y_tr_res = X_tr, y_tr\n",
        "    except ValueError as e:\n",
        "        print(\" | SMOTE error:\", e)\n",
        "        print(\"Using original data instead.\")\n",
        "        X_tr_res, y_tr_res = X_tr, y_tr\n",
        "\n",
        "    train_data = lgb.Dataset(X_tr_res, label=y_tr_res)\n",
        "    val_data = lgb.Dataset(X_val, label=y_val, reference=train_data)\n",
        "\n",
        "    model = lgb.train(\n",
        "        {**best_params, 'objective': 'multiclass', 'num_class': 15, 'metric': 'multi_logloss', 'verbosity': -1},\n",
        "        train_data,\n",
        "        valid_sets=[val_data],\n",
        "        num_boost_round=200,\n",
        "        callbacks=[lgb.early_stopping(stopping_rounds=10)]\n",
        "    )\n",
        "\n",
        "    y_pred = model.predict(X_val)\n",
        "    y_pred_class = np.argmax(y_pred, axis=1)\n",
        "    acc = accuracy_score(y_val, y_pred_class)\n",
        "    f1 = f1_score(y_val, y_pred_class, average='macro')\n",
        "    accuracies.append(acc)\n",
        "    f1_scores.append(f1)\n",
        "    print(f\" | Accuracy: {acc:.4f}, Macro F1: {f1:.4f}\")\n",
        "\n",
        "print(f\"\\nMean Accuracy: {np.mean(accuracies):.4f} (±{np.std(accuracies):.4f})\")\n",
        "print(f\"Mean Macro F1: {np.mean(f1_scores):.4f} (±{np.std(f1_scores):.4f})\")\n"
      ]
    },
    {
      "cell_type": "markdown",
      "metadata": {
        "id": "uRC4QY4HK-_y"
      },
      "source": [
        "This cell imports necessary libraries for handling class imbalance, model training, and evaluation. It applies SMOTETomek resampling (with SMOTE configured to use a safe number of neighbors based on the smallest class size) to balance the training data. A LightGBM model is trained on the resampled data using optimized parameters for multiclass classification, with 15 classes and 200 boosting rounds. The model is evaluated on the test set, computing accuracy, macro F1, precision, recall, and false positive rate (FPR). It ensures robust evaluation by handling all 15 classes, even if some are absent in the test set, and warns about potential sampling issues for rare classes. Performance on rare attacks (Heartbleed and Infiltration) is specifically reported. A confusion matrix heatmap is generated and saved to visualize classification performance, with the plot stored at /content/plots/confusion_matrix_lightgbm.png."
      ]
    },
    {
      "cell_type": "code",
      "execution_count": null,
      "metadata": {
        "id": "NNOw3DSC1jKt",
        "colab": {
          "base_uri": "https://localhost:8080/"
        },
        "outputId": "e52e357b-7aa4-4952-feb6-1a3d67bb529c"
      },
      "outputs": [
        {
          "output_type": "stream",
          "name": "stdout",
          "text": [
            "Smallest class count in y_train: 2, using SMOTE(k=1)\n",
            "X_train_res shape: (18156, 10)\n",
            "X_test_scaled_np shape: (565, 10)\n",
            "Classes in test set or predictions: [ 0  1  2  8  9 10 11 12 13]\n",
            "Warning: Only 9/15 classes detected in test set. Consider increasing test sample size for rare classes.\n",
            "\n",
            "Test Set Evaluation:\n",
            "              precision    recall  f1-score   support\n",
            "\n",
            "           0       0.99      0.99      0.99       454\n",
            "           1       1.00      1.00      1.00        26\n",
            "           2       0.97      0.97      0.97        32\n",
            "           3       0.00      0.00      0.00         0\n",
            "           4       0.00      0.00      0.00         0\n",
            "           5       0.00      0.00      0.00         0\n",
            "           6       0.00      0.00      0.00         0\n",
            "           7       0.00      0.00      0.00         0\n",
            "           8       1.00      1.00      1.00         2\n",
            "           9       0.00      0.00      0.00         1\n",
            "          10       0.92      0.98      0.95        46\n",
            "          11       1.00      0.50      0.67         2\n",
            "          12       0.00      0.00      0.00         1\n",
            "          13       0.50      1.00      0.67         1\n",
            "          14       0.00      0.00      0.00         0\n",
            "\n",
            "    accuracy                           0.98       565\n",
            "   macro avg       0.43      0.43      0.42       565\n",
            "weighted avg       0.98      0.98      0.98       565\n",
            "\n",
            "Accuracy: 0.9823008849557522\n",
            "Macro F1: 0.41604144882072736\n",
            "Macro Precision: 0.4253653452531455\n",
            "Macro Recall: 0.4290665102470791\n",
            "Macro FPR: 0.002677095201339962\n",
            "\n",
            "Performance on Rare Attacks:\n",
            "Heartbleed (Class 14):\n",
            "  Precision: 0.0000\n",
            "  Recall: 0.0000\n",
            "  F1-Score: 0.0000\n",
            "  Detection Rate: 0.0000\n",
            "Infiltration (Class 4):\n",
            "  Precision: 0.0000\n",
            "  Recall: 0.0000\n",
            "  F1-Score: 0.0000\n",
            "  Detection Rate: 0.0000\n",
            "Saved confusion matrix to /content/plots/confusion_matrix_lightgbm.png\n"
          ]
        }
      ],
      "source": [
        "from imblearn.combine import SMOTETomek\n",
        "from imblearn.over_sampling import SMOTE\n",
        "from sklearn.metrics import classification_report, accuracy_score, f1_score, confusion_matrix, precision_score, recall_score\n",
        "import lightgbm as lgb\n",
        "import numpy as np\n",
        "import seaborn as sns\n",
        "import matplotlib.pyplot as plt\n",
        "import os\n",
        "from collections import Counter\n",
        "\n",
        "min_class_count = min(Counter(y_train).values())\n",
        "smote_k = max(1, min(min_class_count - 1, 5))\n",
        "\n",
        "print(f\"Smallest class count in y_train: {min_class_count}, using SMOTE(k={smote_k})\")\n",
        "\n",
        "smt = SMOTETomek(smote=SMOTE(k_neighbors=smote_k), random_state=42)\n",
        "X_train_res, y_train_res = smt.fit_resample(X_train_scaled.values, y_train)\n",
        "print(\"X_train_res shape:\", X_train_res.shape)\n",
        "assert X_train_res.shape[1] == len(top_features), f\"Expected {len(top_features)} features, got {X_train_res.shape[1]}\"\n",
        "\n",
        "train_data = lgb.Dataset(X_train_res, label=y_train_res)\n",
        "model = lgb.train(\n",
        "    {**best_params, 'objective': 'multiclass', 'num_class': 15, 'metric': 'multi_logloss', 'verbosity': -1},\n",
        "    train_data,\n",
        "    num_boost_round=200\n",
        ")\n",
        "\n",
        "X_test_scaled_np = X_test_scaled.values\n",
        "print(\"X_test_scaled_np shape:\", X_test_scaled_np.shape)\n",
        "assert X_test_scaled_np.shape[1] == len(top_features), f\"Expected {len(top_features)} features, got {X_test_scaled_np.shape[1]}\"\n",
        "\n",
        "y_pred_test = model.predict(X_test_scaled_np)\n",
        "y_pred_class_test = np.argmax(y_pred_test, axis=1)\n",
        "\n",
        "all_labels = list(range(15))\n",
        "unique_classes = np.unique(np.union1d(y_test, y_pred_class_test))\n",
        "print(f\"Classes in test set or predictions: {unique_classes}\")\n",
        "if len(unique_classes) < 15:\n",
        "    print(f\"Warning: Only {len(unique_classes)}/15 classes detected in test set. Consider increasing test sample size for rare classes.\")\n",
        "\n",
        "print(\"\\nTest Set Evaluation:\")\n",
        "report = classification_report(y_test, y_pred_class_test, labels=all_labels, output_dict=True, zero_division=0)\n",
        "print(classification_report(y_test, y_pred_class_test, labels=all_labels, zero_division=0))\n",
        "print(\"Accuracy:\", accuracy_score(y_test, y_pred_class_test))\n",
        "print(\"Macro F1:\", f1_score(y_test, y_pred_class_test, labels=all_labels, average='macro', zero_division=0))\n",
        "print(\"Macro Precision:\", precision_score(y_test, y_pred_class_test, labels=all_labels, average='macro', zero_division=0))\n",
        "print(\"Macro Recall:\", recall_score(y_test, y_pred_class_test, labels=all_labels, average='macro', zero_division=0))\n",
        "\n",
        "cm = confusion_matrix(y_test, y_pred_class_test, labels=all_labels)\n",
        "fpr = []\n",
        "for i in all_labels:\n",
        "    fp = cm[:, i].sum() - cm[i, i]\n",
        "    tn = cm.sum() - cm[i, :].sum() - cm[:, i].sum() + cm[i, i]\n",
        "    fpr.append(fp / (fp + tn) if (fp + tn) > 0 else 0)\n",
        "print(\"Macro FPR:\", np.mean(fpr))\n",
        "\n",
        "rare_classes = {'Heartbleed': 14, 'Infiltration': 4}\n",
        "print(\"\\nPerformance on Rare Attacks:\")\n",
        "for name, idx in rare_classes.items():\n",
        "    if str(idx) in report:\n",
        "        print(f\"{name} (Class {idx}):\")\n",
        "        print(f\"  Precision: {report[str(idx)]['precision']:.4f}\")\n",
        "        print(f\"  Recall: {report[str(idx)]['recall']:.4f}\")\n",
        "        print(f\"  F1-Score: {report[str(idx)]['f1-score']:.4f}\")\n",
        "        print(f\"  Detection Rate: {report[str(idx)]['recall']:.4f}\")\n",
        "    else:\n",
        "        print(f\"{name} (Class {idx}): Not present in test set predictions.\")\n",
        "\n",
        "plt.figure(figsize=(12, 10))\n",
        "sns.heatmap(cm, annot=True, fmt='d', cmap='Blues', cbar_kws={'label': 'Count'}, xticklabels=all_labels, yticklabels=all_labels)\n",
        "plt.xlabel('Predicted Label')\n",
        "plt.ylabel('True Label')\n",
        "plt.title('Confusion Matrix for LightGBM Model')\n",
        "plt.tight_layout()\n",
        "os.makedirs('/content/plots', exist_ok=True)\n",
        "plt.savefig('/content/plots/confusion_matrix_lightgbm.png', dpi=300)\n",
        "plt.close()\n",
        "print(\"Saved confusion matrix to /content/plots/confusion_matrix_lightgbm.png\")\n"
      ]
    },
    {
      "cell_type": "markdown",
      "metadata": {
        "id": "RSgVD6GCLrY4"
      },
      "source": [
        "This cell generates SHAP explanations for the LightGBM model, using dynamically selected features from Part 6 to ensure consistency. It computes SHAP values for the test set and interaction values for a subset, producing summary plots for all classes and class 0 (BENIGN), saved as PNGs. Assertions verify feature counts and class consistency, enhancing interpretability for network security analysts."
      ]
    },
    {
      "cell_type": "code",
      "execution_count": null,
      "metadata": {
        "id": "TzkP8p_61n1J",
        "colab": {
          "base_uri": "https://localhost:8080/",
          "height": 751
        },
        "outputId": "025eafbe-06eb-4f00-9343-2a957aaa6032"
      },
      "outputs": [
        {
          "output_type": "stream",
          "name": "stdout",
          "text": [
            "X_test_scaled shape: (565, 10)\n",
            "y_test shape: (565,)\n",
            "Unique classes in y_test: [ 0  1  2  8  9 10 11 12 13]\n",
            "Number of features in feature_names: 10\n",
            "Feature names: ['Destination Port', 'Bwd Packet Length Max', 'Total Fwd Packets', 'Flow Duration', 'Bwd Packet Length Min', 'Fwd Packet Length Max', 'Flow Bytes/s', 'Flow Packets/s', 'Fwd Packet Length Min', 'Total Length of Fwd Packets']\n"
          ]
        },
        {
          "output_type": "stream",
          "name": "stderr",
          "text": [
            " 99%|===================| 558/565 [00:34<00:00]       "
          ]
        },
        {
          "output_type": "stream",
          "name": "stdout",
          "text": [
            "SHAP values type: <class 'numpy.ndarray'>\n",
            "SHAP values shape: (565, 10)\n",
            "Saved SHAP summary plot to /content/shap_summary_multiclass.png\n",
            "Interaction values type: <class 'numpy.ndarray'>\n",
            "Interaction values shape: (100, 10, 10)\n"
          ]
        },
        {
          "output_type": "display_data",
          "data": {
            "text/plain": [
              "<Figure size 800x550 with 1 Axes>"
            ],
            "image/png": "[encoded data removed]"
          },
          "metadata": {}
        }
      ],
      "source": [
        "import shap\n",
        "import matplotlib.pyplot as plt\n",
        "import numpy as np\n",
        "import pandas as pd\n",
        "print(\"X_test_scaled shape:\", X_test_scaled.shape)\n",
        "print(\"y_test shape:\", y_test.shape)\n",
        "print(\"Unique classes in y_test:\", np.unique(y_test))\n",
        "feature_names = top_features.tolist()\n",
        "print(\"Number of features in feature_names:\", len(feature_names))\n",
        "print(\"Feature names:\", feature_names)\n",
        "assert len(feature_names) == X_test_scaled.shape[1], f\"Expected {X_test_scaled.shape[1]} features, got {len(feature_names)}\"\n",
        "X_test_scaled_df = pd.DataFrame(X_test_scaled, columns=feature_names)\n",
        "background_idx = np.random.choice(X_test_scaled_df.shape[0], min(1000, X_test_scaled_df.shape[0]), replace=False)\n",
        "background_data = X_test_scaled_df.iloc[background_idx, :].values\n",
        "explainer = shap.TreeExplainer(model, data=background_data, feature_perturbation=\"interventional\")\n",
        "shap_values = explainer.shap_values(X_test_scaled_df.values)\n",
        "print(\"SHAP values type:\", type(shap_values))\n",
        "if isinstance(shap_values, list):\n",
        "    print(\"SHAP values list length (classes):\", len(shap_values))\n",
        "    print(\"Each SHAP array shape:\", [arr.shape for arr in shap_values])\n",
        "    assert len(shap_values) == 15, f\"Expected 15 classes, got {len(shap_values)}\"\n",
        "    for arr in shap_values:\n",
        "        assert arr.shape[1] == len(feature_names), f\"SHAP array has {arr.shape[1]} features, expected {len(feature_names)}\"\n",
        "else:\n",
        "    print(\"SHAP values shape:\", shap_values.shape)\n",
        "shap.summary_plot(shap_values, X_test_scaled_df, feature_names=feature_names, show=False, plot_type='bar')\n",
        "plt.savefig('/content/shap_summary_multiclass.png')\n",
        "print(\"Saved SHAP summary plot to /content/shap_summary_multiclass.png\")\n",
        "if isinstance(shap_values, list):\n",
        "    shap.summary_plot(shap_values[0], X_test_scaled_df, feature_names=feature_names, show=False)\n",
        "    plt.savefig('/content/shap_summary_class0.png')\n",
        "    print(\"Saved SHAP class 0 plot to /content/shap_summary_class0.png\")\n",
        "subset_size = 100\n",
        "X_subset = X_test_scaled_df.iloc[:subset_size, :].values\n",
        "interaction_values = explainer.shap_interaction_values(X_subset)\n",
        "print(\"Interaction values type:\", type(interaction_values))\n",
        "if isinstance(interaction_values, list):\n",
        "    print(\"Interaction values list length (classes):\", len(interaction_values))\n",
        "    print(\"Each interaction array shape:\", [arr.shape for arr in interaction_values])\n",
        "else:\n",
        "    print(\"Interaction values shape:\", interaction_values.shape)\n",
        "if isinstance(interaction_values, list):\n",
        "    shap.summary_plot(interaction_values[0], X_subset, feature_names=feature_names, show=False)\n",
        "    plt.savefig('/content/shap_interaction_class0.png')\n",
        "    print(\"Saved interaction summary plot for class 0 to /content/shap_interaction_class0.png\")"
      ]
    },
    {
      "cell_type": "markdown",
      "metadata": {
        "id": "c7ARXuP3LvUy"
      },
      "source": [
        "This cell imports numpy for numerical operations and sklearn's accuracy_score for model evaluation. It predicts on clean test data using a pre-trained model, computing baseline accuracy. SHAP values are used as a proxy for gradients to simulate an FGSM-style adversarial attack. For each epsilon value (0.01, 0.05, 0.1), it perturbs the test data by adding scaled perturbations based on the sign of mean absolute SHAP values (aggregated across classes). Predictions are made on the perturbed data, and accuracy under each attack strength is reported, assessing the model's robustness to adversarial perturbations."
      ]
    },
    {
      "cell_type": "code",
      "execution_count": null,
      "metadata": {
        "id": "fdIsf7Ns1pVm",
        "colab": {
          "base_uri": "https://localhost:8080/"
        },
        "outputId": "70681a3b-d648-48a1-8f85-4e4f2e3c9e33"
      },
      "outputs": [
        {
          "output_type": "stream",
          "name": "stdout",
          "text": [
            "Baseline Accuracy: 0.9823008849557522\n"
          ]
        },
        {
          "output_type": "stream",
          "name": "stderr",
          "text": [
            " 98%|===================| 556/565 [00:31<00:00]       "
          ]
        },
        {
          "output_type": "stream",
          "name": "stdout",
          "text": [
            "Accuracy under simulated FGSM attack (ε=0.01): 0.8035398230088495\n",
            "Accuracy under simulated FGSM attack (ε=0.05): 0.8035398230088495\n",
            "Accuracy under simulated FGSM attack (ε=0.1): 0.8035398230088495\n"
          ]
        }
      ],
      "source": [
        "import numpy as np\n",
        "from sklearn.metrics import accuracy_score\n",
        "X_test_scaled_np = X_test_scaled.values\n",
        "y_pred = model.predict(X_test_scaled_np)\n",
        "y_pred_class = np.argmax(y_pred, axis=1)\n",
        "\n",
        "print(\"Baseline Accuracy:\", accuracy_score(y_test, y_pred_class))\n",
        "shap_values = explainer.shap_values(X_test_scaled_np)\n",
        "epsilons = [0.01, 0.05, 0.1]\n",
        "\n",
        "for epsilon in epsilons:\n",
        "    perturbed_X = X_test_scaled_np.copy()\n",
        "    if isinstance(shap_values, list):\n",
        "        mean_shap = np.mean([np.abs(sv) for sv in shap_values], axis=0)\n",
        "    else:\n",
        "        mean_shap = np.abs(shap_values)\n",
        "    perturbation = np.sign(mean_shap)\n",
        "    X_test_adv = perturbed_X + epsilon * perturbation\n",
        "    y_pred_adv = model.predict(X_test_adv)\n",
        "    y_pred_class_adv = np.argmax(y_pred_adv, axis=1)\n",
        "\n",
        "    print(f\"Accuracy under simulated FGSM attack (ε={epsilon}):\", accuracy_score(y_test, y_pred_class_adv))\n"
      ]
    },
    {
      "cell_type": "markdown",
      "metadata": {
        "id": "ySAxfj1BL0dB"
      },
      "source": [
        "This cell trains a Logistic Regression classifier using SHAP values from a subset of training data to predict alerts based on feature importance. The classifier acts as a secondary decision layer, enhancing the system’s ability to flag potential intrusions for network security monitoring."
      ]
    },
    {
      "cell_type": "code",
      "execution_count": null,
      "metadata": {
        "id": "visIHgHF1qaP",
        "colab": {
          "base_uri": "https://localhost:8080/"
        },
        "outputId": "f19ebe05-fbb4-4726-f864-2545dd7b4f35"
      },
      "outputs": [
        {
          "output_type": "stream",
          "name": "stderr",
          "text": [
            "100%|===================| 998/1000 [00:59<00:00]       "
          ]
        }
      ],
      "source": [
        "from sklearn.linear_model import LogisticRegression\n",
        "import numpy as np\n",
        "def train_alert_classifier():\n",
        "    shap_values_train = explainer.shap_values(X_train_scaled.iloc[:1000])\n",
        "    if isinstance(shap_values_train, list):\n",
        "        shap_input = np.abs(shap_values_train).mean(axis=0)  # shape: (1000, features)\n",
        "    else:\n",
        "        shap_input = np.abs(shap_values_train)\n",
        "\n",
        "    clf = LogisticRegression(max_iter=500)\n",
        "    clf.fit(shap_input, y_train.iloc[:1000])\n",
        "    return clf\n",
        "alert_classifier = train_alert_classifier()"
      ]
    },
    {
      "cell_type": "markdown",
      "metadata": {
        "id": "xPcPnI2CL3G5"
      },
      "source": [
        "This cell defines a function to explain individual model predictions by generating SHAP force plots and listing the top contributing features for a test instance. It uses the alert classifier to estimate intrusion likelihood, producing detailed explanations saved as plots and returned as a dictionary for logging."
      ]
    },
    {
      "cell_type": "code",
      "execution_count": null,
      "metadata": {
        "id": "-2XOK2SR1rwe"
      },
      "outputs": [],
      "source": [
        "import shap\n",
        "import matplotlib.pyplot as plt\n",
        "explain_config = {\"top_k_features\": 5}\n",
        "def explain_alert(instance_idx, top_k=None):\n",
        "    if top_k is None:\n",
        "        top_k = explain_config[\"top_k_features\"]\n",
        "    alert_data = X_test_scaled.iloc[instance_idx:instance_idx+1]\n",
        "    shap_values = explainer.shap_values(alert_data)\n",
        "    y_pred = model.predict(alert_data)\n",
        "    pred_class = np.argmax(y_pred, axis=1)[0]\n",
        "    shap_values_single = shap_values[pred_class][0]\n",
        "    top_local_indices = np.argsort(np.abs(shap_values_single))[::-1][:top_k]\n",
        "    top_local_features = top_features[top_local_indices]\n",
        "    top_local_shap_vals = shap_values_single[top_local_indices]\n",
        "    print(f\"\\n[Instance {instance_idx}] Top {top_k} contributing features (Class {pred_class}):\")\n",
        "    for i, feature in enumerate(top_local_features):\n",
        "        print(f\"  {i+1}. {feature} (SHAP: {top_local_shap_vals[i]:.4f})\")\n",
        "    try:\n",
        "      shap.force_plot(..., matplotlib=True, show=False)\n",
        "      plt.savefig(f'/content/force_plot_instance_{instance_idx}.png', dpi=300)\n",
        "      plt.close()\n",
        "    except:\n",
        "      print(\"⚠️ Could not render force plot.\")\n",
        "\n",
        "    plt.tight_layout()\n",
        "    plt.savefig(f'/content/force_plot_instance_{instance_idx}.png', dpi=300, bbox_inches='tight')\n",
        "    plt.close()\n",
        "    shap_input = np.mean([np.abs(shap_val[0]) for shap_val in shap_values], axis=0)\n",
        "    proba = alert_classifier.predict_proba([shap_input])[0]\n",
        "    prediction = int(proba[1] > 0.5)\n",
        "    confidence = proba[1]\n",
        "    decision_msg = \"⚠️ ML Alert: Intrusion likely\" if prediction == 1 else \"✅ ML Alert: Normal\"\n",
        "    return {\n",
        "        \"prediction\": prediction,\n",
        "        \"confidence\": confidence,\n",
        "        \"decision_message\": decision_msg,\n",
        "        \"top_features\": top_features[top_local_indices].tolist(),\n",
        "        \"shap_values\": shap_values_single.tolist()\n",
        "    }"
      ]
    },
    {
      "cell_type": "markdown",
      "metadata": {
        "id": "bBumUneBL5KJ"
      },
      "source": [
        "This cell logs alerts for the first five test instances using a simplified explain_alert function, capturing prediction details, confidence, top features, and SHAP values. The logs are saved as a JSON file, enabling tracking of intrusion detection events for operational monitoring and analysis."
      ]
    },
    {
      "cell_type": "code",
      "execution_count": null,
      "metadata": {
        "id": "qp6ricFb1udM",
        "colab": {
          "base_uri": "https://localhost:8080/"
        },
        "outputId": "721ee88e-7840-4c27-cbbd-dd9c108994cf"
      },
      "outputs": [
        {
          "output_type": "stream",
          "name": "stdout",
          "text": [
            "{\n",
            "  \"alert_id\": 0,\n",
            "  \"timestamp\": \"2025-05-10T10:57:48.866228\",\n",
            "  \"predicted_class\": 0,\n",
            "  \"confidence\": 0.9999999804522434,\n",
            "  \"prediction\": 0,\n",
            "  \"decision_message\": \"Alert classified as class 0 with 100.00% confidence\",\n",
            "  \"top_features\": [\n",
            "    \"Bwd Packet Length Min\",\n",
            "    \"Fwd Packet Length Max\",\n",
            "    \"Fwd Packet Length Min\",\n",
            "    \"Destination Port\",\n",
            "    \"Flow Duration\"\n",
            "  ],\n",
            "  \"shap_values\": [\n",
            "    3.1866813507175538,\n",
            "    -2.1388601355855643,\n",
            "    1.795026181730791,\n",
            "    -1.5476764391968028,\n",
            "    -1.0722739978885512\n",
            "  ]\n",
            "}\n",
            "Saved alert logs to /content/alert_logs.json\n"
          ]
        }
      ],
      "source": [
        "import pandas as pd\n",
        "import json\n",
        "import numpy as np\n",
        "import warnings\n",
        "\n",
        "warnings.filterwarnings(\"ignore\", category=UserWarning)\n",
        "\n",
        "alert_logs = []\n",
        "\n",
        "def explain_alert(instance_idx, top_k=5):\n",
        "    alert_data = X_test_scaled.iloc[instance_idx:instance_idx+1].values\n",
        "    y_pred = model.predict(alert_data)\n",
        "    pred_class = np.argmax(y_pred, axis=1)[0]\n",
        "    shap_values = explainer.shap_values(alert_data)\n",
        "\n",
        "    if isinstance(shap_values, list) and len(shap_values) > 1:\n",
        "        shap_values_single = shap_values[pred_class][0]\n",
        "    elif isinstance(shap_values, list):\n",
        "        shap_values_single = shap_values[0][0]\n",
        "    else:\n",
        "        shap_values_single = shap_values[0]\n",
        "\n",
        "    top_local_indices = np.argsort(np.abs(shap_values_single))[::-1][:top_k]\n",
        "    return {\n",
        "        \"prediction\": int(pred_class),\n",
        "        \"confidence\": float(np.max(y_pred)),\n",
        "        \"top_features\": X_test_scaled.columns[top_local_indices].tolist(),\n",
        "        \"shap_values\": shap_values_single[top_local_indices].tolist(),\n",
        "        \"decision_message\": f\"Alert classified as class {pred_class} with {np.max(y_pred)*100:.2f}% confidence\"\n",
        "    }\n",
        "\n",
        "def serialize(obj):\n",
        "    if isinstance(obj, (np.integer, np.floating)):\n",
        "        return obj.item()\n",
        "    elif isinstance(obj, np.ndarray):\n",
        "        return obj.tolist()\n",
        "    raise TypeError\n",
        "\n",
        "def log_alert(instance_idx):\n",
        "    explanation = explain_alert(instance_idx)\n",
        "    y_pred = model.predict(X_test_scaled.iloc[instance_idx:instance_idx+1].values)\n",
        "    pred_class = np.argmax(y_pred, axis=1)[0]\n",
        "    alert_logs.append({\n",
        "        \"alert_id\": instance_idx,\n",
        "        \"timestamp\": pd.Timestamp.now().isoformat(),\n",
        "        \"predicted_class\": int(pred_class),\n",
        "        \"confidence\": explanation[\"confidence\"],\n",
        "        \"prediction\": explanation[\"prediction\"],\n",
        "        \"decision_message\": explanation[\"decision_message\"],\n",
        "        \"top_features\": explanation[\"top_features\"],\n",
        "        \"shap_values\": explanation[\"shap_values\"]\n",
        "    })\n",
        "\n",
        "# Log the first 5 alerts\n",
        "for i in range(5):\n",
        "    log_alert(i)\n",
        "\n",
        "# Print the first alert\n",
        "print(json.dumps(alert_logs[0], indent=2, default=serialize))\n",
        "\n",
        "# Save all alerts to a file\n",
        "with open('/content/alert_logs.json', 'w') as f:\n",
        "    json.dump(alert_logs, f, indent=2, default=serialize)\n",
        "\n",
        "print(\"Saved alert logs to /content/alert_logs.json\")\n"
      ]
    },
    {
      "cell_type": "markdown",
      "metadata": {
        "id": "CcXfDm4uL7tM"
      },
      "source": [
        "This cell monitors model stability by detecting feature drift using both SHAP importance variance and Kolmogorov-Smirnov (KS) tests across random test data batches. It calculates SHAP variance and KS p-values, triggering a retraining alert if variance exceeds 0.1 or p-values indicate significant distribution shifts (p < 0.05), ensuring robust adaptation to evolving network traffic patterns."
      ]
    },
    {
      "cell_type": "code",
      "execution_count": null,
      "metadata": {
        "id": "fJ9GtNbb1wMd",
        "colab": {
          "base_uri": "https://localhost:8080/"
        },
        "outputId": "584dcb99-e5f5-45c5-af9b-234eeb6ec766"
      },
      "outputs": [
        {
          "output_type": "stream",
          "name": "stdout",
          "text": [
            "\n",
            "SHAP Feature Drift Variance Across Batches: 0.0005\n",
            "Mean KS Test p-value Across Batches: 0.8346\n",
            "✅ Model stable: No drift detected.\n"
          ]
        }
      ],
      "source": [
        "import numpy as np\n",
        "from scipy.stats import ks_2samp\n",
        "def detect_shap_feature_drift(explainer, X_data, num_batches=4, batch_size=100, drift_threshold=0.1, ks_threshold=0.05, random_seed=42):\n",
        "    np.random.seed(random_seed)\n",
        "    total_required = num_batches * batch_size\n",
        "    if len(X_data) < total_required:\n",
        "        raise ValueError(f\"Not enough test samples ({len(X_data)}) for {num_batches} batches of size {batch_size}.\")\n",
        "    shuffled_indices = np.random.permutation(len(X_data))\n",
        "    weekly_shap = []\n",
        "    ks_p_values = []\n",
        "    ref_idx = shuffled_indices[:batch_size]\n",
        "    X_ref = X_data.iloc[ref_idx].values\n",
        "    for i in range(num_batches):\n",
        "        batch_idx = shuffled_indices[i * batch_size: (i + 1) * batch_size]\n",
        "        X_batch = X_data.iloc[batch_idx]\n",
        "        shap_values_batch = explainer.shap_values(X_batch)\n",
        "        batch_mean = np.mean([np.abs(shap_val).mean(axis=0) for shap_val in shap_values_batch], axis=0)\n",
        "        weekly_shap.append(batch_mean)\n",
        "        p_vals = [ks_2samp(X_ref[:, j], X_batch.values[:, j]).pvalue for j in range(X_batch.shape[1])]\n",
        "        ks_p_values.append(np.mean(p_vals))\n",
        "    weekly_shap = np.array(weekly_shap)\n",
        "    shap_variance = np.mean(np.var(weekly_shap, axis=0))\n",
        "    mean_ks_p = np.mean(ks_p_values)\n",
        "    print(f\"\\nSHAP Feature Drift Variance Across Batches: {shap_variance:.4f}\")\n",
        "    print(f\"Mean KS Test p-value Across Batches: {mean_ks_p:.4f}\")\n",
        "    if shap_variance > drift_threshold or mean_ks_p < ks_threshold:\n",
        "        print(\"⚠️ Trigger retraining: Drift detected (SHAP or KS).\")\n",
        "    else:\n",
        "        print(\"✅ Model stable: No drift detected.\")\n",
        "detect_shap_feature_drift(explainer, X_test_scaled, num_batches=4, batch_size=100, drift_threshold=0.1)"
      ]
    },
    {
      "cell_type": "markdown",
      "metadata": {
        "id": "8iCYx03EL-Dd"
      },
      "source": [
        "This cell trains differentially private Logistic Regression models with varying privacy budgets (ε = 0.1, 0.5, 1.0, 5.0). It evaluates accuracy and macro F1 scores on the test set, balancing privacy and utility to ensure secure intrusion detection while maintaining model performance."
      ]
    },
    {
      "cell_type": "code",
      "execution_count": null,
      "metadata": {
        "id": "alR8P7lh1x1d",
        "colab": {
          "base_uri": "https://localhost:8080/"
        },
        "outputId": "f4d23b22-3092-4d39-874a-468188d6f3f5"
      },
      "outputs": [
        {
          "output_type": "stream",
          "name": "stdout",
          "text": [
            "ε=0.1: Accuracy=0.0248, Macro F1=0.0074\n",
            "ε=0.5: Accuracy=0.6142, Macro F1=0.0780\n",
            "ε=1.0: Accuracy=0.7133, Macro F1=0.0849\n",
            "ε=5.0: Accuracy=0.7912, Macro F1=0.1086\n"
          ]
        }
      ],
      "source": [
        "from diffprivlib.models import LogisticRegression as DPLogReg\n",
        "from numpy.linalg import norm\n",
        "import numpy as np\n",
        "from sklearn.metrics import accuracy_score, f1_score\n",
        "epsilons = [0.1, 0.5, 1.0, 5.0]\n",
        "dp_results = []\n",
        "dp_models = {}\n",
        "dp_predictions = {}\n",
        "for eps in epsilons:\n",
        "  max_norm = np.max(np.linalg.norm(X_train_scaled, axis=1))\n",
        "  dp_model = DPLogReg(epsilon=eps, data_norm=max_norm, max_iter=1000, random_state=42)\n",
        "  dp_model.fit(X_train_scaled, y_train)\n",
        "  dp_preds = dp_model.predict(X_test_scaled)\n",
        "  acc = accuracy_score(y_test, dp_preds)\n",
        "  f1 = f1_score(y_test, dp_preds, average='macro')\n",
        "  dp_results.append((eps, acc, f1))\n",
        "  dp_models[eps] = dp_model\n",
        "  dp_predictions[eps] = dp_preds\n",
        "  print(f\"ε={eps}: Accuracy={acc:.4f}, Macro F1={f1:.4f}\")"
      ]
    },
    {
      "cell_type": "markdown",
      "metadata": {
        "id": "SzpXE-a7MAd_"
      },
      "source": [
        "This cell generates five visualizations to analyze the differentially private model’s performance: a privacy-utility tradeoff plot, an accuracy bar plot, a confusion matrix heatmap, precision-recall curves, and a summary table. These high-quality PNGs provide insights into the trade-offs between privacy and model effectiveness."
      ]
    },
    {
      "cell_type": "code",
      "execution_count": null,
      "metadata": {
        "id": "mCu0s3lb2QHP",
        "colab": {
          "base_uri": "https://localhost:8080/"
        },
        "outputId": "7d96da1f-92f2-420b-aa2c-bdf1a93bb55f"
      },
      "outputs": [
        {
          "output_type": "stream",
          "name": "stdout",
          "text": [
            "Saved Visualization 1 to /content/dp_visualizations/dp_tradeoff_enhanced.png\n",
            "Saved Visualization 2 to /content/dp_visualizations/dp_accuracy_bar.png\n",
            "Saved Visualization 3 to /content/dp_visualizations/dp_confusion_matrix.png\n",
            "Saved Visualization 4 to /content/dp_visualizations/dp_precision_recall.png\n",
            "Saved Visualization 5 to /content/dp_visualizations/dp_metrics_table.png\n"
          ]
        }
      ],
      "source": [
        "import matplotlib.pyplot as plt\n",
        "import seaborn as sns\n",
        "import numpy as np\n",
        "from sklearn.metrics import confusion_matrix, precision_recall_curve\n",
        "import matplotlib.table as tbl\n",
        "import os\n",
        "plt.rcParams.update({\n",
        "    'font.size': 14,\n",
        "    'axes.labelsize': 16,\n",
        "    'axes.titlesize': 18,\n",
        "    'legend.fontsize': 12,\n",
        "    'xtick.labelsize': 12,\n",
        "    'ytick.labelsize': 12,\n",
        "    'figure.dpi': 300,\n",
        "    'savefig.dpi': 300,\n",
        "    'figure.figsize': (12, 8)\n",
        "})\n",
        "output_dir = '/content/dp_visualizations'\n",
        "os.makedirs(output_dir, exist_ok=True)\n",
        "fig, ax = plt.subplots(figsize=(12, 8))\n",
        "epsilons, accuracies, f1_scores = zip(*dp_results)\n",
        "ax.plot(epsilons, accuracies, marker='o', linestyle='-', linewidth=2, markersize=10, label='Accuracy', color='navy')\n",
        "ax.plot(epsilons, f1_scores, marker='s', linestyle='--', linewidth=2, markersize=10, label='Macro F1', color='darkorange')\n",
        "ax.set_xlabel('Privacy Budget (ε)', fontsize=16)\n",
        "ax.set_ylabel('Metric Value', fontsize=16)\n",
        "ax.set_title('Differential Privacy: Accuracy and F1 Score vs. Privacy Budget', fontsize=18, pad=15)\n",
        "ax.grid(True, linestyle='--', alpha=0.7)\n",
        "ax.legend(fontsize=12, loc='best')\n",
        "ax.set_xscale('log')\n",
        "ax.set_xticks(epsilons)\n",
        "ax.set_xticklabels([f'{eps:.1f}' for eps in epsilons])\n",
        "for i, (eps, acc, f1) in enumerate(dp_results):\n",
        "    ax.annotate(f'{acc:.3f}', (eps, acc), textcoords=\"offset points\", xytext=(0,10), ha='center', fontsize=10, color='navy')\n",
        "    ax.annotate(f'{f1:.3f}', (eps, f1), textcoords=\"offset points\", xytext=(0,-15), ha='center', fontsize=10, color='darkorange')\n",
        "plt.tight_layout()\n",
        "plt.savefig(os.path.join(output_dir, 'dp_tradeoff_enhanced.png'), dpi=300, format='png', bbox_inches='tight')\n",
        "plt.close()\n",
        "print(f\"Saved Visualization 1 to {output_dir}/dp_tradeoff_enhanced.png\")\n",
        "fig, ax = plt.subplots(figsize=(12, 8))\n",
        "bars = ax.bar(epsilons, accuracies, color='teal', edgecolor='black', alpha=0.8)\n",
        "ax.set_xlabel('Privacy Budget (ε)', fontsize=16)\n",
        "ax.set_ylabel('Accuracy', fontsize=16)\n",
        "ax.set_title('Accuracy Across Different Privacy Budgets', fontsize=18, pad=15)\n",
        "ax.grid(True, axis='y', linestyle='--', alpha=0.7)\n",
        "ax.set_xticks(epsilons)\n",
        "ax.set_xticklabels([f'{eps:.1f}' for eps in epsilons])\n",
        "for bar in bars:\n",
        "    yval = bar.get_height()\n",
        "    ax.text(bar.get_x() + bar.get_width()/2, yval + 0.01, f'{yval:.3f}', ha='center', va='bottom', fontsize=12)\n",
        "plt.tight_layout()\n",
        "plt.savefig(os.path.join(output_dir, 'dp_accuracy_bar.png'), dpi=300, format='png', bbox_inches='tight')\n",
        "plt.close()\n",
        "print(f\"Saved Visualization 2 to {output_dir}/dp_accuracy_bar.png\")\n",
        "best_eps = max(dp_results, key=lambda x: x[1])[0]\n",
        "cm = confusion_matrix(y_test, dp_predictions[best_eps])\n",
        "fig, ax = plt.subplots(figsize=(12, 10))\n",
        "sns.heatmap(cm, annot=True, fmt='d', cmap='Blues', ax=ax, cbar_kws={'label': 'Count'})\n",
        "ax.set_xlabel('Predicted Label', fontsize=16)\n",
        "ax.set_ylabel('True Label', fontsize=16)\n",
        "ax.set_title(f'Confusion Matrix for DP Model (ε={best_eps})', fontsize=18, pad=15)\n",
        "plt.tight_layout()\n",
        "plt.savefig(os.path.join(output_dir, 'dp_confusion_matrix.png'), dpi=300, format='png', bbox_inches='tight')\n",
        "plt.close()\n",
        "print(f\"Saved Visualization 3 to {output_dir}/dp_confusion_matrix.png\")\n",
        "fig, ax = plt.subplots(figsize=(12, 8))\n",
        "n_classes = dp_models[best_eps].predict_proba(X_test_scaled).shape[1]\n",
        "for class_idx in range(n_classes):\n",
        "    y_true_bin = (y_test == class_idx).astype(int)\n",
        "    if best_eps in dp_models and hasattr(dp_models[best_eps], 'predict_proba'):\n",
        "        y_score = dp_models[best_eps].predict_proba(X_test_scaled)[:, class_idx]\n",
        "        precision, recall, _ = precision_recall_curve(y_true_bin, y_score)\n",
        "        ax.plot(recall, precision, label=f'Class {class_idx}', linewidth=2)\n",
        "ax.set_xlabel('Recall', fontsize=16)\n",
        "ax.set_ylabel('Precision', fontsize=16)\n",
        "ax.set_title(f'Precision-Recall Curves for DP Model (ε={best_eps})', fontsize=18, pad=15)\n",
        "ax.grid(True, linestyle='--', alpha=0.7)\n",
        "ax.legend(fontsize=10, loc='best', ncol=2)\n",
        "plt.tight_layout()\n",
        "plt.savefig(os.path.join(output_dir, 'dp_precision_recall.png'), dpi=300, format='png', bbox_inches='tight')\n",
        "plt.close()\n",
        "print(f\"Saved Visualization 4 to {output_dir}/dp_precision_recall.png\")\n",
        "fig, ax = plt.subplots(figsize=(12, 8))\n",
        "ax.axis('off')\n",
        "table_data = [[f'{eps:.1f}', f'{acc:.3f}', f'{f1:.3f}'] for eps, acc, f1 in dp_results]\n",
        "table = tbl.table(\n",
        "    ax,\n",
        "    cellText=table_data,\n",
        "    colLabels=['Privacy Budget (ε)', 'Accuracy', 'Macro F1'],\n",
        "    loc='center',\n",
        "    cellLoc='center',\n",
        "    colColours=['#f0f0f0']*3,\n",
        "    bbox=[0, 0, 1, 1]\n",
        ")\n",
        "table.auto_set_font_size(False)\n",
        "table.set_fontsize(12)\n",
        "plt.title('Differential Privacy Performance Metrics', fontsize=18, pad=15)\n",
        "plt.savefig(os.path.join(output_dir, 'dp_metrics_table.png'), dpi=300, format='png', bbox_inches='tight')\n",
        "plt.close()\n",
        "print(f\"Saved Visualization 5 to {output_dir}/dp_metrics_table.png\")"
      ]
    },
    {
      "cell_type": "markdown",
      "metadata": {
        "id": "LRnCJcOyMDoY"
      },
      "source": [
        "This cell saves the trained LightGBM model to a file and lists all generated outputs, including plots, logs, and the model file. It provides a summary of saved artifacts, ensuring easy access to results for further analysis or deployment in the intrusion detection system."
      ]
    },
    {
      "cell_type": "code",
      "execution_count": null,
      "metadata": {
        "id": "m4S4BkOrBU5g",
        "colab": {
          "base_uri": "https://localhost:8080/"
        },
        "outputId": "a3f126d8-db27-41c2-f105-687bc70bec6b"
      },
      "outputs": [
        {
          "output_type": "stream",
          "name": "stdout",
          "text": [
            "Saved model to /content/lightgbm_model.txt\n",
            "\n",
            "Saved files:\n",
            "- lightgbm_model.txt\n",
            "- shap_summary_multiclass.png\n",
            "- alert_logs.json\n",
            "- dp_visualizations/dp_accuracy_bar.png\n",
            "- dp_visualizations/dp_confusion_matrix.png\n",
            "- dp_visualizations/dp_tradeoff_enhanced.png\n",
            "- dp_visualizations/dp_precision_recall.png\n",
            "- dp_visualizations/dp_metrics_table.png\n"
          ]
        }
      ],
      "source": [
        "import os\n",
        "model.save_model('/content/lightgbm_model.txt')\n",
        "print(\"Saved model to /content/lightgbm_model.txt\")\n",
        "print(\"\\nSaved files:\")\n",
        "for file in os.listdir('/content'):\n",
        "    if file.endswith('.png') or file.endswith('.json') or file.endswith('.txt'):\n",
        "        print(f\"- {file}\")\n",
        "for file in os.listdir('/content/dp_visualizations'):\n",
        "    print(f\"- dp_visualizations/{file}\")"
      ]
    },
    {
      "cell_type": "markdown",
      "metadata": {
        "id": "EkAQpafTMIEB"
      },
      "source": [
        "This cell records the end time of the notebook’s execution using the time module and stores it with Colab’s %store command. This sets up the calculation of total execution time, critical for evaluating the pipeline’s efficiency for real-time network security applications."
      ]
    },
    {
      "cell_type": "code",
      "execution_count": null,
      "metadata": {
        "id": "XovDSS7Kg2wS",
        "colab": {
          "base_uri": "https://localhost:8080/"
        },
        "outputId": "be4221f2-4f35-426b-8eb4-c9230bdd0879"
      },
      "outputs": [
        {
          "output_type": "stream",
          "name": "stdout",
          "text": [
            "Stored 'end_time' (float)\n"
          ]
        }
      ],
      "source": [
        "end_time = time.time()\n",
        "%store end_time"
      ]
    },
    {
      "cell_type": "markdown",
      "metadata": {
        "id": "W99ffft3MLGD"
      },
      "source": [
        "This cell retrieves the start and end times stored earlier, calculates the total execution time, and prints it. This metric helps assess the computational efficiency of the entire pipeline, ensuring it meets the performance requirements for real-time intrusion detection."
      ]
    },
    {
      "cell_type": "code",
      "execution_count": null,
      "metadata": {
        "id": "H1LbmQuGg4KM",
        "colab": {
          "base_uri": "https://localhost:8080/"
        },
        "outputId": "0f44a1b3-63b0-4b81-dabc-c90cb89e74b1"
      },
      "outputs": [
        {
          "output_type": "stream",
          "name": "stdout",
          "text": [
            "Total execution time: 685.28 seconds\n"
          ]
        }
      ],
      "source": [
        "%store -r start_time\n",
        "%store -r end_time\n",
        "duration = end_time - start_time\n",
        "print(f\"Total execution time: {duration:.2f} seconds\")"
      ]
    }
  ],
  "metadata": {
    "colab": {
      "provenance": [],
      "include_colab_link": true
    },
    "kernelspec": {
      "display_name": "Python 3",
      "name": "python3"
    },
    "language_info": {
      "name": "python"
    }
  },
  "nbformat": 4,
  "nbformat_minor": 0
}